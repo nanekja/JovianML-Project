{
  "nbformat": 4,
  "nbformat_minor": 0,
  "metadata": {
    "colab": {
      "name": "SVHN_Dataset_Classification_v2.ipynb",
      "provenance": [],
      "collapsed_sections": [],
      "toc_visible": true
    },
    "kernelspec": {
      "name": "python3",
      "display_name": "Python 3"
    },
    "accelerator": "GPU",
    "widgets": {
      "application/vnd.jupyter.widget-state+json": {
        "055dde09982c4f97ab2695fd9106ccdb": {
          "model_module": "@jupyter-widgets/controls",
          "model_name": "HBoxModel",
          "state": {
            "_view_name": "HBoxView",
            "_dom_classes": [],
            "_model_name": "HBoxModel",
            "_view_module": "@jupyter-widgets/controls",
            "_model_module_version": "1.5.0",
            "_view_count": null,
            "_view_module_version": "1.5.0",
            "box_style": "",
            "layout": "IPY_MODEL_96409233cfc842e1a6dbe446124bead3",
            "_model_module": "@jupyter-widgets/controls",
            "children": [
              "IPY_MODEL_a68a0bf232a94b999f662c71eefaab23",
              "IPY_MODEL_bd808164caff497d848113bf07a4754f"
            ]
          }
        },
        "96409233cfc842e1a6dbe446124bead3": {
          "model_module": "@jupyter-widgets/base",
          "model_name": "LayoutModel",
          "state": {
            "_view_name": "LayoutView",
            "grid_template_rows": null,
            "right": null,
            "justify_content": null,
            "_view_module": "@jupyter-widgets/base",
            "overflow": null,
            "_model_module_version": "1.2.0",
            "_view_count": null,
            "flex_flow": null,
            "width": null,
            "min_width": null,
            "border": null,
            "align_items": null,
            "bottom": null,
            "_model_module": "@jupyter-widgets/base",
            "top": null,
            "grid_column": null,
            "overflow_y": null,
            "overflow_x": null,
            "grid_auto_flow": null,
            "grid_area": null,
            "grid_template_columns": null,
            "flex": null,
            "_model_name": "LayoutModel",
            "justify_items": null,
            "grid_row": null,
            "max_height": null,
            "align_content": null,
            "visibility": null,
            "align_self": null,
            "height": null,
            "min_height": null,
            "padding": null,
            "grid_auto_rows": null,
            "grid_gap": null,
            "max_width": null,
            "order": null,
            "_view_module_version": "1.2.0",
            "grid_template_areas": null,
            "object_position": null,
            "object_fit": null,
            "grid_auto_columns": null,
            "margin": null,
            "display": null,
            "left": null
          }
        },
        "a68a0bf232a94b999f662c71eefaab23": {
          "model_module": "@jupyter-widgets/controls",
          "model_name": "FloatProgressModel",
          "state": {
            "_view_name": "ProgressView",
            "style": "IPY_MODEL_4a8f92a8bb914f10bcace15d94464e01",
            "_dom_classes": [],
            "description": "",
            "_model_name": "FloatProgressModel",
            "bar_style": "info",
            "max": 1,
            "_view_module": "@jupyter-widgets/controls",
            "_model_module_version": "1.5.0",
            "value": 1,
            "_view_count": null,
            "_view_module_version": "1.5.0",
            "orientation": "horizontal",
            "min": 0,
            "description_tooltip": null,
            "_model_module": "@jupyter-widgets/controls",
            "layout": "IPY_MODEL_421adc7edf8844ecb9125a012920b38b"
          }
        },
        "bd808164caff497d848113bf07a4754f": {
          "model_module": "@jupyter-widgets/controls",
          "model_name": "HTMLModel",
          "state": {
            "_view_name": "HTMLView",
            "style": "IPY_MODEL_32e5e8d5de8c45aebd9516e3fadb1e4a",
            "_dom_classes": [],
            "description": "",
            "_model_name": "HTMLModel",
            "placeholder": "​",
            "_view_module": "@jupyter-widgets/controls",
            "_model_module_version": "1.5.0",
            "value": " 182042624/? [00:30&lt;00:00, 20675190.98it/s]",
            "_view_count": null,
            "_view_module_version": "1.5.0",
            "description_tooltip": null,
            "_model_module": "@jupyter-widgets/controls",
            "layout": "IPY_MODEL_9133d62ebf854126b49b2e3dc13ba318"
          }
        },
        "4a8f92a8bb914f10bcace15d94464e01": {
          "model_module": "@jupyter-widgets/controls",
          "model_name": "ProgressStyleModel",
          "state": {
            "_view_name": "StyleView",
            "_model_name": "ProgressStyleModel",
            "description_width": "initial",
            "_view_module": "@jupyter-widgets/base",
            "_model_module_version": "1.5.0",
            "_view_count": null,
            "_view_module_version": "1.2.0",
            "bar_color": null,
            "_model_module": "@jupyter-widgets/controls"
          }
        },
        "421adc7edf8844ecb9125a012920b38b": {
          "model_module": "@jupyter-widgets/base",
          "model_name": "LayoutModel",
          "state": {
            "_view_name": "LayoutView",
            "grid_template_rows": null,
            "right": null,
            "justify_content": null,
            "_view_module": "@jupyter-widgets/base",
            "overflow": null,
            "_model_module_version": "1.2.0",
            "_view_count": null,
            "flex_flow": null,
            "width": null,
            "min_width": null,
            "border": null,
            "align_items": null,
            "bottom": null,
            "_model_module": "@jupyter-widgets/base",
            "top": null,
            "grid_column": null,
            "overflow_y": null,
            "overflow_x": null,
            "grid_auto_flow": null,
            "grid_area": null,
            "grid_template_columns": null,
            "flex": null,
            "_model_name": "LayoutModel",
            "justify_items": null,
            "grid_row": null,
            "max_height": null,
            "align_content": null,
            "visibility": null,
            "align_self": null,
            "height": null,
            "min_height": null,
            "padding": null,
            "grid_auto_rows": null,
            "grid_gap": null,
            "max_width": null,
            "order": null,
            "_view_module_version": "1.2.0",
            "grid_template_areas": null,
            "object_position": null,
            "object_fit": null,
            "grid_auto_columns": null,
            "margin": null,
            "display": null,
            "left": null
          }
        },
        "32e5e8d5de8c45aebd9516e3fadb1e4a": {
          "model_module": "@jupyter-widgets/controls",
          "model_name": "DescriptionStyleModel",
          "state": {
            "_view_name": "StyleView",
            "_model_name": "DescriptionStyleModel",
            "description_width": "",
            "_view_module": "@jupyter-widgets/base",
            "_model_module_version": "1.5.0",
            "_view_count": null,
            "_view_module_version": "1.2.0",
            "_model_module": "@jupyter-widgets/controls"
          }
        },
        "9133d62ebf854126b49b2e3dc13ba318": {
          "model_module": "@jupyter-widgets/base",
          "model_name": "LayoutModel",
          "state": {
            "_view_name": "LayoutView",
            "grid_template_rows": null,
            "right": null,
            "justify_content": null,
            "_view_module": "@jupyter-widgets/base",
            "overflow": null,
            "_model_module_version": "1.2.0",
            "_view_count": null,
            "flex_flow": null,
            "width": null,
            "min_width": null,
            "border": null,
            "align_items": null,
            "bottom": null,
            "_model_module": "@jupyter-widgets/base",
            "top": null,
            "grid_column": null,
            "overflow_y": null,
            "overflow_x": null,
            "grid_auto_flow": null,
            "grid_area": null,
            "grid_template_columns": null,
            "flex": null,
            "_model_name": "LayoutModel",
            "justify_items": null,
            "grid_row": null,
            "max_height": null,
            "align_content": null,
            "visibility": null,
            "align_self": null,
            "height": null,
            "min_height": null,
            "padding": null,
            "grid_auto_rows": null,
            "grid_gap": null,
            "max_width": null,
            "order": null,
            "_view_module_version": "1.2.0",
            "grid_template_areas": null,
            "object_position": null,
            "object_fit": null,
            "grid_auto_columns": null,
            "margin": null,
            "display": null,
            "left": null
          }
        },
        "706d9a160493447eb0d5c583e6c3e339": {
          "model_module": "@jupyter-widgets/controls",
          "model_name": "HBoxModel",
          "state": {
            "_view_name": "HBoxView",
            "_dom_classes": [],
            "_model_name": "HBoxModel",
            "_view_module": "@jupyter-widgets/controls",
            "_model_module_version": "1.5.0",
            "_view_count": null,
            "_view_module_version": "1.5.0",
            "box_style": "",
            "layout": "IPY_MODEL_53dcf30ad41740cca86814da24d531a0",
            "_model_module": "@jupyter-widgets/controls",
            "children": [
              "IPY_MODEL_4365eab1d6324180907b8dd9a7a64134",
              "IPY_MODEL_64cf92d1dd554f8f9bb7753654f64afe"
            ]
          }
        },
        "53dcf30ad41740cca86814da24d531a0": {
          "model_module": "@jupyter-widgets/base",
          "model_name": "LayoutModel",
          "state": {
            "_view_name": "LayoutView",
            "grid_template_rows": null,
            "right": null,
            "justify_content": null,
            "_view_module": "@jupyter-widgets/base",
            "overflow": null,
            "_model_module_version": "1.2.0",
            "_view_count": null,
            "flex_flow": null,
            "width": null,
            "min_width": null,
            "border": null,
            "align_items": null,
            "bottom": null,
            "_model_module": "@jupyter-widgets/base",
            "top": null,
            "grid_column": null,
            "overflow_y": null,
            "overflow_x": null,
            "grid_auto_flow": null,
            "grid_area": null,
            "grid_template_columns": null,
            "flex": null,
            "_model_name": "LayoutModel",
            "justify_items": null,
            "grid_row": null,
            "max_height": null,
            "align_content": null,
            "visibility": null,
            "align_self": null,
            "height": null,
            "min_height": null,
            "padding": null,
            "grid_auto_rows": null,
            "grid_gap": null,
            "max_width": null,
            "order": null,
            "_view_module_version": "1.2.0",
            "grid_template_areas": null,
            "object_position": null,
            "object_fit": null,
            "grid_auto_columns": null,
            "margin": null,
            "display": null,
            "left": null
          }
        },
        "4365eab1d6324180907b8dd9a7a64134": {
          "model_module": "@jupyter-widgets/controls",
          "model_name": "FloatProgressModel",
          "state": {
            "_view_name": "ProgressView",
            "style": "IPY_MODEL_966b7491a0fc4c17940fb90608f7df5e",
            "_dom_classes": [],
            "description": "",
            "_model_name": "FloatProgressModel",
            "bar_style": "info",
            "max": 1,
            "_view_module": "@jupyter-widgets/controls",
            "_model_module_version": "1.5.0",
            "value": 1,
            "_view_count": null,
            "_view_module_version": "1.5.0",
            "orientation": "horizontal",
            "min": 0,
            "description_tooltip": null,
            "_model_module": "@jupyter-widgets/controls",
            "layout": "IPY_MODEL_e7633707cdf541f4be47dd3b6d285418"
          }
        },
        "64cf92d1dd554f8f9bb7753654f64afe": {
          "model_module": "@jupyter-widgets/controls",
          "model_name": "HTMLModel",
          "state": {
            "_view_name": "HTMLView",
            "style": "IPY_MODEL_c724e8c1335d4643aa518974c6a0fc72",
            "_dom_classes": [],
            "description": "",
            "_model_name": "HTMLModel",
            "placeholder": "​",
            "_view_module": "@jupyter-widgets/controls",
            "_model_module_version": "1.5.0",
            "value": " 64282624/? [00:23&lt;00:00, 20959722.16it/s]",
            "_view_count": null,
            "_view_module_version": "1.5.0",
            "description_tooltip": null,
            "_model_module": "@jupyter-widgets/controls",
            "layout": "IPY_MODEL_c60aa52a7b404844a55a711f5739ff55"
          }
        },
        "966b7491a0fc4c17940fb90608f7df5e": {
          "model_module": "@jupyter-widgets/controls",
          "model_name": "ProgressStyleModel",
          "state": {
            "_view_name": "StyleView",
            "_model_name": "ProgressStyleModel",
            "description_width": "initial",
            "_view_module": "@jupyter-widgets/base",
            "_model_module_version": "1.5.0",
            "_view_count": null,
            "_view_module_version": "1.2.0",
            "bar_color": null,
            "_model_module": "@jupyter-widgets/controls"
          }
        },
        "e7633707cdf541f4be47dd3b6d285418": {
          "model_module": "@jupyter-widgets/base",
          "model_name": "LayoutModel",
          "state": {
            "_view_name": "LayoutView",
            "grid_template_rows": null,
            "right": null,
            "justify_content": null,
            "_view_module": "@jupyter-widgets/base",
            "overflow": null,
            "_model_module_version": "1.2.0",
            "_view_count": null,
            "flex_flow": null,
            "width": null,
            "min_width": null,
            "border": null,
            "align_items": null,
            "bottom": null,
            "_model_module": "@jupyter-widgets/base",
            "top": null,
            "grid_column": null,
            "overflow_y": null,
            "overflow_x": null,
            "grid_auto_flow": null,
            "grid_area": null,
            "grid_template_columns": null,
            "flex": null,
            "_model_name": "LayoutModel",
            "justify_items": null,
            "grid_row": null,
            "max_height": null,
            "align_content": null,
            "visibility": null,
            "align_self": null,
            "height": null,
            "min_height": null,
            "padding": null,
            "grid_auto_rows": null,
            "grid_gap": null,
            "max_width": null,
            "order": null,
            "_view_module_version": "1.2.0",
            "grid_template_areas": null,
            "object_position": null,
            "object_fit": null,
            "grid_auto_columns": null,
            "margin": null,
            "display": null,
            "left": null
          }
        },
        "c724e8c1335d4643aa518974c6a0fc72": {
          "model_module": "@jupyter-widgets/controls",
          "model_name": "DescriptionStyleModel",
          "state": {
            "_view_name": "StyleView",
            "_model_name": "DescriptionStyleModel",
            "description_width": "",
            "_view_module": "@jupyter-widgets/base",
            "_model_module_version": "1.5.0",
            "_view_count": null,
            "_view_module_version": "1.2.0",
            "_model_module": "@jupyter-widgets/controls"
          }
        },
        "c60aa52a7b404844a55a711f5739ff55": {
          "model_module": "@jupyter-widgets/base",
          "model_name": "LayoutModel",
          "state": {
            "_view_name": "LayoutView",
            "grid_template_rows": null,
            "right": null,
            "justify_content": null,
            "_view_module": "@jupyter-widgets/base",
            "overflow": null,
            "_model_module_version": "1.2.0",
            "_view_count": null,
            "flex_flow": null,
            "width": null,
            "min_width": null,
            "border": null,
            "align_items": null,
            "bottom": null,
            "_model_module": "@jupyter-widgets/base",
            "top": null,
            "grid_column": null,
            "overflow_y": null,
            "overflow_x": null,
            "grid_auto_flow": null,
            "grid_area": null,
            "grid_template_columns": null,
            "flex": null,
            "_model_name": "LayoutModel",
            "justify_items": null,
            "grid_row": null,
            "max_height": null,
            "align_content": null,
            "visibility": null,
            "align_self": null,
            "height": null,
            "min_height": null,
            "padding": null,
            "grid_auto_rows": null,
            "grid_gap": null,
            "max_width": null,
            "order": null,
            "_view_module_version": "1.2.0",
            "grid_template_areas": null,
            "object_position": null,
            "object_fit": null,
            "grid_auto_columns": null,
            "margin": null,
            "display": null,
            "left": null
          }
        }
      }
    }
  },
  "cells": [
    {
      "cell_type": "markdown",
      "metadata": {
        "id": "TRx_Ei-vOqLs",
        "colab_type": "text"
      },
      "source": [
        "SVHN\n",
        "\n",
        "[Google Street View House Number(SVHN) Dataset](http://ufldl.stanford.edu/housenumbers/)\n",
        "\n",
        "Much similar to MNIST(images of cropped digits), but SVHN contains much more labeled data (over 600,000 images) with real world problems of recognizing digits and numbers in *natural scene images*.\n",
        "\n",
        "**Overview:**\n",
        "\n",
        "1) Total 10 Classes, 1 for each digits i.e Label '9' for digit 9 and '10' for digit 0. \n",
        "\n",
        "2) 73,257 digits for training, 26,032 digits for testing.\n",
        "\n",
        "3) Available in two differnet formats\n",
        "Original images with bounding box available for each character (may contain multiple characters in same images).\n",
        "\n",
        "MNIST like 32x32 cropped images having single character in each images.\n",
        "Dataset is obtained from house numbers in Google Street View images.\n",
        "\n",
        "Here we are classifying 32 x 32 cropped images given in format 2"
      ]
    },
    {
      "cell_type": "code",
      "metadata": {
        "id": "74Mu652z9YXj",
        "colab_type": "code",
        "colab": {
          "base_uri": "https://localhost:8080/",
          "height": 35
        },
        "outputId": "8a2fc88a-80ce-462c-8c20-3fd122cfc118"
      },
      "source": [
        "import os\n",
        "import tarfile\n",
        "import torch\n",
        "import numpy as np\n",
        "\n",
        "import torchvision\n",
        "from torchvision.datasets.utils import download_url\n",
        "from torchvision.datasets import ImageFolder\n",
        "from torchvision.transforms import ToTensor\n",
        "import torchvision.transforms as transforms\n",
        "from torchvision import datasets\n",
        "from torch.utils.data import random_split\n",
        "from torch.utils.data.dataloader import DataLoader\n",
        "\n",
        "import torch.nn as nn\n",
        "from torch.nn import AvgPool2d\n",
        "import torch.nn.functional as F\n",
        "\n",
        "import matplotlib.pyplot as plt\n",
        "%matplotlib inline\n",
        "\n",
        "!pip install torchsummary\n",
        "from torchsummary import summary\n",
        "\n",
        "from scipy.io import loadmat"
      ],
      "execution_count": 1,
      "outputs": [
        {
          "output_type": "stream",
          "text": [
            "Requirement already satisfied: torchsummary in /usr/local/lib/python3.6/dist-packages (1.5.1)\n"
          ],
          "name": "stdout"
        }
      ]
    },
    {
      "cell_type": "code",
      "metadata": {
        "id": "OV5GebeZGae3",
        "colab_type": "code",
        "colab": {
          "base_uri": "https://localhost:8080/",
          "height": 205,
          "referenced_widgets": [
            "055dde09982c4f97ab2695fd9106ccdb",
            "96409233cfc842e1a6dbe446124bead3",
            "a68a0bf232a94b999f662c71eefaab23",
            "bd808164caff497d848113bf07a4754f",
            "4a8f92a8bb914f10bcace15d94464e01",
            "421adc7edf8844ecb9125a012920b38b",
            "32e5e8d5de8c45aebd9516e3fadb1e4a",
            "9133d62ebf854126b49b2e3dc13ba318",
            "706d9a160493447eb0d5c583e6c3e339",
            "53dcf30ad41740cca86814da24d531a0",
            "4365eab1d6324180907b8dd9a7a64134",
            "64cf92d1dd554f8f9bb7753654f64afe",
            "966b7491a0fc4c17940fb90608f7df5e",
            "e7633707cdf541f4be47dd3b6d285418",
            "c724e8c1335d4643aa518974c6a0fc72",
            "c60aa52a7b404844a55a711f5739ff55"
          ]
        },
        "outputId": "a8d9d604-56fa-4eb3-f709-a05e5e00eeef"
      },
      "source": [
        "root='http://ufldl.stanford.edu/housenumbers/'\n",
        "\n",
        "transform = transforms.Compose([\n",
        "                                transforms.CenterCrop((28, 28)),\n",
        "                                transforms.ToTensor(),\n",
        "                                #transforms.Normalize([0.5,],[0.5,])\n",
        "                                transforms.Normalize([0.5,0.5,0.5], [0.5,0.5,0.5])\n",
        "                                ])\n",
        "\n",
        "train = torchvision.datasets.SVHN(root, split='train', transform=transform, target_transform=None, download=True)\n",
        "\n",
        "train_dl = torch.utils.data.DataLoader(train, batch_size=128, shuffle=True)\n",
        "\n",
        "test_vi = torchvision.datasets.SVHN(root, split='test', transform=transforms.ToTensor(),download=True)\n",
        "test_vii = torch.utils.data.DataLoader(test_vi, batch_size=128, shuffle=True)\n",
        "\n",
        "test = torchvision.datasets.SVHN(root, split='test', transform=transform, target_transform=None, download=True)\n",
        "\n",
        "test_dl = torch.utils.data.DataLoader(test, batch_size=128, shuffle=True)\n",
        "\n",
        "images_train, labels_train = next(iter(train_dl))\n",
        "images_test, labels_test = next(iter(test_dl))\n",
        "images_test_vi, labels_test_vi = next(iter(test_vi))\n",
        "\n",
        "print(\"Shape of train inputs: \", images_train.shape, \"; Shape of train labels: \", labels_train.shape)\n",
        "print(\"Shape of test inputs: \",images_test.shape, \"; Shape of test inputs: \", labels_test.shape)\n",
        "print(\"Batch size = 128\")"
      ],
      "execution_count": 2,
      "outputs": [
        {
          "output_type": "stream",
          "text": [
            "Downloading http://ufldl.stanford.edu/housenumbers/train_32x32.mat to http://ufldl.stanford.edu/housenumbers/train_32x32.mat\n"
          ],
          "name": "stdout"
        },
        {
          "output_type": "display_data",
          "data": {
            "application/vnd.jupyter.widget-view+json": {
              "model_id": "055dde09982c4f97ab2695fd9106ccdb",
              "version_minor": 0,
              "version_major": 2
            },
            "text/plain": [
              "HBox(children=(FloatProgress(value=1.0, bar_style='info', max=1.0), HTML(value='')))"
            ]
          },
          "metadata": {
            "tags": []
          }
        },
        {
          "output_type": "stream",
          "text": [
            "Downloading http://ufldl.stanford.edu/housenumbers/test_32x32.mat to http://ufldl.stanford.edu/housenumbers/test_32x32.mat\n"
          ],
          "name": "stdout"
        },
        {
          "output_type": "display_data",
          "data": {
            "application/vnd.jupyter.widget-view+json": {
              "model_id": "706d9a160493447eb0d5c583e6c3e339",
              "version_minor": 0,
              "version_major": 2
            },
            "text/plain": [
              "HBox(children=(FloatProgress(value=1.0, bar_style='info', max=1.0), HTML(value='')))"
            ]
          },
          "metadata": {
            "tags": []
          }
        },
        {
          "output_type": "stream",
          "text": [
            "Using downloaded and verified file: http://ufldl.stanford.edu/housenumbers/test_32x32.mat\n",
            "Shape of train inputs:  torch.Size([128, 3, 28, 28]) ; Shape of train labels:  torch.Size([128])\n",
            "Shape of test inputs:  torch.Size([128, 3, 28, 28]) ; Shape of test inputs:  torch.Size([128])\n",
            "Batch size = 128\n"
          ],
          "name": "stdout"
        }
      ]
    },
    {
      "cell_type": "code",
      "metadata": {
        "id": "ygSRPCeYJ4i4",
        "colab_type": "code",
        "colab": {}
      },
      "source": [
        "def show(image):\n",
        "  ig, axes = plt.subplots()\n",
        "  plt.imshow(image)"
      ],
      "execution_count": 3,
      "outputs": []
    },
    {
      "cell_type": "code",
      "metadata": {
        "id": "NVWLxZqpEEir",
        "colab_type": "code",
        "colab": {
          "base_uri": "https://localhost:8080/",
          "height": 515
        },
        "outputId": "a7c0078e-bb6b-4d03-a936-20652c1f4c1c"
      },
      "source": [
        "dataiter = iter(test_vii)\n",
        "images, labels = dataiter.next()\n",
        "for i in range(113,115):\n",
        "  img = images[i]\n",
        "  img = img.numpy().transpose((1, 2, 0))\n",
        "  show(img)"
      ],
      "execution_count": 4,
      "outputs": [
        {
          "output_type": "display_data",
          "data": {
            "image/png": "[encoded data removed]",
            "text/plain": [
              "<Figure size 432x288 with 1 Axes>"
            ]
          },
          "metadata": {
            "tags": [],
            "needs_background": "light"
          }
        },
        {
          "output_type": "display_data",
          "data": {
            "image/png": "[encoded data removed]",
            "text/plain": [
              "<Figure size 432x288 with 1 Axes>"
            ]
          },
          "metadata": {
            "tags": [],
            "needs_background": "light"
          }
        }
      ]
    },
    {
      "cell_type": "code",
      "metadata": {
        "id": "4IQbVZe5MHYn",
        "colab_type": "code",
        "colab": {
          "base_uri": "https://localhost:8080/",
          "height": 568
        },
        "outputId": "e8e07884-8984-4ce7-d38d-e587c234d5da"
      },
      "source": [
        "dataiter = iter(test_dl)\n",
        "images, labels = dataiter.next()\n",
        "for i in range(113,115):\n",
        "  img = images[i]\n",
        "  img = img.numpy().transpose((1, 2, 0))\n",
        "  show(img)"
      ],
      "execution_count": 5,
      "outputs": [
        {
          "output_type": "stream",
          "text": [
            "Clipping input data to the valid range for imshow with RGB data ([0..1] for floats or [0..255] for integers).\n",
            "Clipping input data to the valid range for imshow with RGB data ([0..1] for floats or [0..255] for integers).\n"
          ],
          "name": "stderr"
        },
        {
          "output_type": "display_data",
          "data": {
            "image/png": "[encoded data removed]",
            "text/plain": [
              "<Figure size 432x288 with 1 Axes>"
            ]
          },
          "metadata": {
            "tags": [],
            "needs_background": "light"
          }
        },
        {
          "output_type": "display_data",
          "data": {
            "image/png": "[encoded data removed]",
            "text/plain": [
              "<Figure size 432x288 with 1 Axes>"
            ]
          },
          "metadata": {
            "tags": [],
            "needs_background": "light"
          }
        }
      ]
    },
    {
      "cell_type": "code",
      "metadata": {
        "id": "bsv_2LG3Gtmg",
        "colab_type": "code",
        "colab": {
          "base_uri": "https://localhost:8080/",
          "height": 433
        },
        "outputId": "967f6c41-f359-47b9-b85d-21a3088d72fa"
      },
      "source": [
        "img, label = train[0]\n",
        "print(img.shape, label)\n",
        "img"
      ],
      "execution_count": 6,
      "outputs": [
        {
          "output_type": "stream",
          "text": [
            "torch.Size([3, 28, 28]) 1\n"
          ],
          "name": "stdout"
        },
        {
          "output_type": "execute_result",
          "data": {
            "text/plain": [
              "tensor([[[-0.8745, -0.7647, -0.4980,  ..., -0.7412, -0.8039, -0.8196],\n",
              "         [-0.8196, -0.8196, -0.5373,  ..., -0.6471, -0.5294, -0.6157],\n",
              "         [-0.8275, -0.8588, -0.5922,  ..., -0.4745, -0.3569, -0.4039],\n",
              "         ...,\n",
              "         [-0.3569, -0.4431, -0.8196,  ..., -0.3333, -0.2078, -0.2000],\n",
              "         [-0.3961, -0.4275, -0.6863,  ..., -0.2078, -0.1922, -0.1765],\n",
              "         [-0.3569, -0.3725, -0.5137,  ..., -0.1765, -0.1843, -0.1843]],\n",
              "\n",
              "        [[-0.8667, -0.7490, -0.5137,  ..., -0.8353, -0.7569, -0.7725],\n",
              "         [-0.8588, -0.8039, -0.5451,  ..., -0.6314, -0.5843, -0.6627],\n",
              "         [-0.8353, -0.8353, -0.5608,  ..., -0.4431, -0.4275, -0.4667],\n",
              "         ...,\n",
              "         [-0.4039, -0.4980, -0.8353,  ..., -0.2941, -0.2392, -0.2078],\n",
              "         [-0.3647, -0.4196, -0.7020,  ..., -0.2314, -0.2000, -0.1843],\n",
              "         [-0.3804, -0.3961, -0.5059,  ..., -0.1843, -0.1843, -0.1843]],\n",
              "\n",
              "        [[-0.8196, -0.7647, -0.5765,  ..., -0.6471, -0.6941, -0.6471],\n",
              "         [-0.8039, -0.8118, -0.5922,  ..., -0.6941, -0.6314, -0.6314],\n",
              "         [-0.8275, -0.8196, -0.6314,  ..., -0.5765, -0.5216, -0.5922],\n",
              "         ...,\n",
              "         [-0.4745, -0.4824, -0.7882,  ..., -0.4588, -0.3569, -0.3490],\n",
              "         [-0.5294, -0.4431, -0.6706,  ..., -0.3490, -0.3725, -0.3961],\n",
              "         [-0.4902, -0.4824, -0.5765,  ..., -0.3412, -0.3804, -0.3176]]])"
            ]
          },
          "metadata": {
            "tags": []
          },
          "execution_count": 6
        }
      ]
    },
    {
      "cell_type": "code",
      "metadata": {
        "id": "iUvdjsQPH7mQ",
        "colab_type": "code",
        "colab": {}
      },
      "source": [
        "from torchvision.utils import make_grid\n",
        "\n",
        "def show_batch(dl):\n",
        "    for images, labels in dl:\n",
        "        fig, ax = plt.subplots(figsize=(12, 6))\n",
        "        ax.set_xticks([]); ax.set_yticks([])\n",
        "        ax.imshow(make_grid(images, nrow=16).permute(1, 2, 0))\n",
        "        break"
      ],
      "execution_count": 7,
      "outputs": []
    },
    {
      "cell_type": "code",
      "metadata": {
        "id": "E2FJgFxQH83d",
        "colab_type": "code",
        "colab": {
          "base_uri": "https://localhost:8080/",
          "height": 399
        },
        "outputId": "50eacc91-5d5e-4e1d-90ff-6d79d45f1f9d"
      },
      "source": [
        "show_batch(train_dl)"
      ],
      "execution_count": 8,
      "outputs": [
        {
          "output_type": "stream",
          "text": [
            "Clipping input data to the valid range for imshow with RGB data ([0..1] for floats or [0..255] for integers).\n"
          ],
          "name": "stderr"
        },
        {
          "output_type": "display_data",
          "data": {
            "image/png": "[encoded data removed]",
            "text/plain": [
              "<Figure size 864x432 with 1 Axes>"
            ]
          },
          "metadata": {
            "tags": []
          }
        }
      ]
    },
    {
      "cell_type": "code",
      "metadata": {
        "id": "cD2uz4h2Q-Vx",
        "colab_type": "code",
        "colab": {}
      },
      "source": [
        "def get_default_device():\n",
        "    \"\"\"Pick GPU if available, else CPU\"\"\"\n",
        "    if torch.cuda.is_available():\n",
        "        return torch.device('cuda')\n",
        "    else:\n",
        "        return torch.device('cpu')\n",
        "    \n",
        "def to_device(data, device):\n",
        "    \"\"\"Move tensor(s) to chosen device\"\"\"\n",
        "    if isinstance(data, (list,tuple)):\n",
        "        return [to_device(x, device) for x in data]\n",
        "    return data.to(device, non_blocking=True)\n",
        "\n",
        "class DeviceDataLoader():\n",
        "    \"\"\"Wrap a dataloader to move data to a device\"\"\"\n",
        "    def __init__(self, dl, device):\n",
        "        self.dl = dl\n",
        "        self.device = device\n",
        "        \n",
        "    def __iter__(self):\n",
        "        \"\"\"Yield a batch of data after moving it to device\"\"\"\n",
        "        for b in self.dl: \n",
        "            yield to_device(b, self.device)\n",
        "\n",
        "    def __len__(self):\n",
        "        \"\"\"Number of batches\"\"\"\n",
        "        return len(self.dl)"
      ],
      "execution_count": 9,
      "outputs": []
    },
    {
      "cell_type": "code",
      "metadata": {
        "id": "m4wV20BvRDtj",
        "colab_type": "code",
        "colab": {
          "base_uri": "https://localhost:8080/",
          "height": 35
        },
        "outputId": "87a0bf55-23e2-4a7e-8742-acfcc9b8797b"
      },
      "source": [
        "device = get_default_device()\n",
        "device"
      ],
      "execution_count": 10,
      "outputs": [
        {
          "output_type": "execute_result",
          "data": {
            "text/plain": [
              "device(type='cuda')"
            ]
          },
          "metadata": {
            "tags": []
          },
          "execution_count": 10
        }
      ]
    },
    {
      "cell_type": "code",
      "metadata": {
        "id": "LxPaIMhaQG61",
        "colab_type": "code",
        "colab": {}
      },
      "source": [
        "def accuracy(outputs, labels):\n",
        "    _, preds = torch.max(outputs, dim=1)\n",
        "    return torch.tensor(torch.sum(preds == labels).item() / len(preds))"
      ],
      "execution_count": 11,
      "outputs": []
    },
    {
      "cell_type": "code",
      "metadata": {
        "id": "kRlorWv5JZPX",
        "colab_type": "code",
        "colab": {}
      },
      "source": [
        "class ImageClassificationBase(nn.Module):\n",
        "    def training_step(self, batch):\n",
        "        images, labels = batch \n",
        "        out = self(images)                  # Generate predictions\n",
        "        loss = F.cross_entropy(out, labels) # Calculate loss\n",
        "        return loss\n",
        "    \n",
        "    def validation_step(self, batch):\n",
        "        images, labels = batch \n",
        "        out = self(images)                    # Generate predictions\n",
        "        loss = F.cross_entropy(out, labels)   # Calculate loss\n",
        "        acc = accuracy(out, labels)           # Calculate accuracy\n",
        "        return {'val_loss': loss.detach(), 'val_acc': acc}\n",
        "        \n",
        "    def validation_epoch_end(self, outputs):\n",
        "        batch_losses = [x['val_loss'] for x in outputs]\n",
        "        epoch_loss = torch.stack(batch_losses).mean()   # Combine losses\n",
        "        batch_accs = [x['val_acc'] for x in outputs]\n",
        "        epoch_acc = torch.stack(batch_accs).mean()      # Combine accuracies\n",
        "        return {'val_loss': epoch_loss.item(), 'val_acc': epoch_acc.item()}\n",
        "    \n",
        "    def epoch_end(self, epoch, result):\n",
        "        print(\"Epoch [{}], train_loss: {:.4f}, val_loss: {:.4f}, val_acc: {:.4f}\".format(\n",
        "            epoch, result['train_loss'], result['val_loss'], result['val_acc']))"
      ],
      "execution_count": 12,
      "outputs": []
    },
    {
      "cell_type": "code",
      "metadata": {
        "id": "NqJv1CKJUTEm",
        "colab_type": "code",
        "colab": {}
      },
      "source": [
        "@torch.no_grad()\n",
        "def evaluate(model, val_loader):\n",
        "    model.eval()\n",
        "    outputs = [model.validation_step(batch) for batch in val_loader]\n",
        "    return model.validation_epoch_end(outputs)\n",
        "\n",
        "def fit(epochs, lr, model, train_loader, val_loader, opt_func=torch.optim.SGD):\n",
        "    history = []\n",
        "    optimizer = opt_func(model.parameters(), lr)\n",
        "    for epoch in range(epochs):\n",
        "        # Training Phase \n",
        "        model.train()\n",
        "        train_losses = []\n",
        "        for batch in train_loader:\n",
        "            loss = model.training_step(batch)\n",
        "            train_losses.append(loss)\n",
        "            loss.backward()\n",
        "            optimizer.step()\n",
        "            optimizer.zero_grad()\n",
        "        # Validation phase\n",
        "        result = evaluate(model, val_loader)\n",
        "        result['train_loss'] = torch.stack(train_losses).mean().item()\n",
        "        model.epoch_end(epoch, result)\n",
        "        history.append(result)\n",
        "    return history"
      ],
      "execution_count": 13,
      "outputs": []
    },
    {
      "cell_type": "code",
      "metadata": {
        "id": "xU29du1bVAe5",
        "colab_type": "code",
        "colab": {}
      },
      "source": [
        "def plot_accuracies(history):\n",
        "    accuracies = [x['val_acc'] for x in history]\n",
        "    plt.plot(accuracies, '-x')\n",
        "    plt.xlabel('epoch')\n",
        "    plt.ylabel('accuracy')\n",
        "    plt.title('Accuracy vs. No. of epochs');"
      ],
      "execution_count": 14,
      "outputs": []
    },
    {
      "cell_type": "code",
      "metadata": {
        "id": "uCbniY4EVHNK",
        "colab_type": "code",
        "colab": {}
      },
      "source": [
        "def plot_losses(history):\n",
        "    train_losses = [x.get('train_loss') for x in history]\n",
        "    val_losses = [x['val_loss'] for x in history]\n",
        "    plt.plot(train_losses, '-bx')\n",
        "    plt.plot(val_losses, '-rx')\n",
        "    plt.xlabel('epoch')\n",
        "    plt.ylabel('loss')\n",
        "    plt.legend(['Training', 'Validation'])\n",
        "    plt.title('Loss vs. No. of epochs');"
      ],
      "execution_count": 15,
      "outputs": []
    },
    {
      "cell_type": "code",
      "metadata": {
        "id": "cFu27Ygw5si7",
        "colab_type": "code",
        "colab": {}
      },
      "source": [
        "num_epochs = 10\n",
        "opt_func = torch.optim.Adam\n",
        "lr = 0.001\n",
        "input_size = 2352\n",
        "num_classes = 10"
      ],
      "execution_count": 16,
      "outputs": []
    },
    {
      "cell_type": "markdown",
      "metadata": {
        "id": "sYe62vhezQOZ",
        "colab_type": "text"
      },
      "source": [
        "## Logistic Regression"
      ]
    },
    {
      "cell_type": "code",
      "metadata": {
        "id": "PGepkxXxWFaF",
        "colab_type": "code",
        "colab": {}
      },
      "source": [
        "class LogisticModel(ImageClassificationBase):\n",
        "    def __init__(self):\n",
        "        super().__init__()\n",
        "        self.linear = nn.Linear(input_size, num_classes)\n",
        "        \n",
        "    def forward(self, xb):\n",
        "        xb = xb.reshape(-1, 2352)\n",
        "        out = self.linear(xb)\n",
        "        return out"
      ],
      "execution_count": 17,
      "outputs": []
    },
    {
      "cell_type": "code",
      "metadata": {
        "id": "9-aEx7_SW8w_",
        "colab_type": "code",
        "colab": {}
      },
      "source": [
        "model1 = LogisticModel()"
      ],
      "execution_count": 18,
      "outputs": []
    },
    {
      "cell_type": "code",
      "metadata": {
        "id": "8s3Tn6DtxgYR",
        "colab_type": "code",
        "colab": {
          "base_uri": "https://localhost:8080/",
          "height": 52
        },
        "outputId": "85887818-87f3-4c59-94ea-45389ebb45c6"
      },
      "source": [
        "print(sum(p.numel() for p in model1.parameters()))\n",
        "print(sum(p.numel() for p in model1.parameters() if p.requires_grad))"
      ],
      "execution_count": 19,
      "outputs": [
        {
          "output_type": "stream",
          "text": [
            "23530\n",
            "23530\n"
          ],
          "name": "stdout"
        }
      ]
    },
    {
      "cell_type": "code",
      "metadata": {
        "id": "Hj72krGeXD4l",
        "colab_type": "code",
        "colab": {
          "base_uri": "https://localhost:8080/",
          "height": 35
        },
        "outputId": "0e00b989-a8ac-4930-ad34-080f1bf078de"
      },
      "source": [
        "history1 = evaluate(model1, test_dl)\n",
        "history1"
      ],
      "execution_count": 20,
      "outputs": [
        {
          "output_type": "execute_result",
          "data": {
            "text/plain": [
              "{'val_acc': 0.09842218458652496, 'val_loss': 2.3205020427703857}"
            ]
          },
          "metadata": {
            "tags": []
          },
          "execution_count": 20
        }
      ]
    },
    {
      "cell_type": "code",
      "metadata": {
        "id": "rRDmUwOvXl9_",
        "colab_type": "code",
        "colab": {
          "base_uri": "https://localhost:8080/",
          "height": 225
        },
        "outputId": "51178f74-3de3-44f6-dc92-5d98880ada56"
      },
      "source": [
        "%%time\n",
        "history1 = fit(num_epochs, lr, model1, train_dl, test_dl, opt_func)"
      ],
      "execution_count": 21,
      "outputs": [
        {
          "output_type": "stream",
          "text": [
            "Epoch [0], train_loss: 2.2358, val_loss: 2.3091, val_acc: 0.1969\n",
            "Epoch [1], train_loss: 2.1942, val_loss: 2.2974, val_acc: 0.1971\n",
            "Epoch [2], train_loss: 2.1799, val_loss: 2.2666, val_acc: 0.2329\n",
            "Epoch [3], train_loss: 2.1782, val_loss: 2.3029, val_acc: 0.2200\n",
            "Epoch [4], train_loss: 2.1741, val_loss: 2.2924, val_acc: 0.2161\n",
            "Epoch [5], train_loss: 2.1728, val_loss: 2.2998, val_acc: 0.2138\n",
            "Epoch [6], train_loss: 2.1682, val_loss: 2.3094, val_acc: 0.2199\n",
            "Epoch [7], train_loss: 2.1668, val_loss: 2.3397, val_acc: 0.2163\n",
            "Epoch [8], train_loss: 2.1632, val_loss: 2.3099, val_acc: 0.2240\n",
            "Epoch [9], train_loss: 2.1622, val_loss: 2.3053, val_acc: 0.2262\n",
            "CPU times: user 4min 38s, sys: 616 ms, total: 4min 38s\n",
            "Wall time: 4min 39s\n"
          ],
          "name": "stdout"
        }
      ]
    },
    {
      "cell_type": "code",
      "metadata": {
        "id": "0Oo6arngX8hG",
        "colab_type": "code",
        "colab": {
          "base_uri": "https://localhost:8080/",
          "height": 295
        },
        "outputId": "1ac23161-c165-4bb8-8472-0a43e8e4b5e3"
      },
      "source": [
        "plot_accuracies(history1)"
      ],
      "execution_count": 22,
      "outputs": [
        {
          "output_type": "display_data",
          "data": {
            "image/png": "[encoded data removed]",
            "text/plain": [
              "<Figure size 432x288 with 1 Axes>"
            ]
          },
          "metadata": {
            "tags": [],
            "needs_background": "light"
          }
        }
      ]
    },
    {
      "cell_type": "code",
      "metadata": {
        "id": "KcIo6yqRYCtK",
        "colab_type": "code",
        "colab": {
          "base_uri": "https://localhost:8080/",
          "height": 295
        },
        "outputId": "c7086f91-0cad-463b-decc-fb181af67df6"
      },
      "source": [
        "plot_losses(history1)"
      ],
      "execution_count": 23,
      "outputs": [
        {
          "output_type": "display_data",
          "data": {
            "image/png": "[encoded data removed]",
            "text/plain": [
              "<Figure size 432x288 with 1 Axes>"
            ]
          },
          "metadata": {
            "tags": [],
            "needs_background": "light"
          }
        }
      ]
    },
    {
      "cell_type": "code",
      "metadata": {
        "id": "n_5oGY4AxCIu",
        "colab_type": "code",
        "colab": {}
      },
      "source": [
        "torch.save(model1.state_dict(), 'svhn_logistic.pth')"
      ],
      "execution_count": 24,
      "outputs": []
    },
    {
      "cell_type": "markdown",
      "metadata": {
        "id": "gpm8ESd4zUow",
        "colab_type": "text"
      },
      "source": [
        "## Feed Forward Neural Network"
      ]
    },
    {
      "cell_type": "code",
      "metadata": {
        "id": "1G1m3rmZ4BAh",
        "colab_type": "code",
        "colab": {}
      },
      "source": [
        "train_dl = DeviceDataLoader(train_dl, device)\n",
        "val_dl = DeviceDataLoader(test_dl, device)"
      ],
      "execution_count": 25,
      "outputs": []
    },
    {
      "cell_type": "code",
      "metadata": {
        "id": "tc53LyqMQc4h",
        "colab_type": "code",
        "colab": {}
      },
      "source": [
        "class FeedFwdModel(ImageClassificationBase):\n",
        "    \"\"\"Feedfoward neural network with 1 hidden layer\"\"\"\n",
        "    def __init__(self, in_size, out_size):\n",
        "        super().__init__()\n",
        "        # hidden layer\n",
        "        self.linear1 = nn.Linear(in_size, 16)\n",
        "        # hidden layer 2\n",
        "        self.linear2 = nn.Linear(16, 32)\n",
        "        # output layer\n",
        "        self.linear3 = nn.Linear(32, out_size)\n",
        "        \n",
        "    def forward(self, xb):\n",
        "        # Flatten the image tensors\n",
        "        out = xb.view(xb.size(0), -1)\n",
        "        # Get intermediate outputs using hidden layer 1\n",
        "        out = self.linear1(out)\n",
        "        # Apply activation function\n",
        "        out = F.relu(out)\n",
        "        # Get intermediate outputs using hidden layer 2\n",
        "        out = self.linear2(out)\n",
        "        # Apply activation function\n",
        "        out = F.relu(out)\n",
        "        # Get predictions using output layer\n",
        "        out = self.linear3(out)\n",
        "        return out"
      ],
      "execution_count": 26,
      "outputs": []
    },
    {
      "cell_type": "code",
      "metadata": {
        "id": "wzgWsua-RpaR",
        "colab_type": "code",
        "colab": {}
      },
      "source": [
        "model2 = FeedFwdModel(input_size, out_size=num_classes)\n",
        "model2 = to_device(model2, device)"
      ],
      "execution_count": 27,
      "outputs": []
    },
    {
      "cell_type": "code",
      "metadata": {
        "id": "4YTO2Q4pyWZT",
        "colab_type": "code",
        "colab": {
          "base_uri": "https://localhost:8080/",
          "height": 295
        },
        "outputId": "dc1a8061-c074-4c63-c9c8-16dcc07ebe64"
      },
      "source": [
        "summary(model2, input_size=(3, 28, 28))"
      ],
      "execution_count": 28,
      "outputs": [
        {
          "output_type": "stream",
          "text": [
            "----------------------------------------------------------------\n",
            "        Layer (type)               Output Shape         Param #\n",
            "================================================================\n",
            "            Linear-1                   [-1, 16]          37,648\n",
            "            Linear-2                   [-1, 32]             544\n",
            "            Linear-3                   [-1, 10]             330\n",
            "================================================================\n",
            "Total params: 38,522\n",
            "Trainable params: 38,522\n",
            "Non-trainable params: 0\n",
            "----------------------------------------------------------------\n",
            "Input size (MB): 0.01\n",
            "Forward/backward pass size (MB): 0.00\n",
            "Params size (MB): 0.15\n",
            "Estimated Total Size (MB): 0.16\n",
            "----------------------------------------------------------------\n"
          ],
          "name": "stdout"
        }
      ]
    },
    {
      "cell_type": "code",
      "metadata": {
        "id": "VFJ1IoKKxqzq",
        "colab_type": "code",
        "colab": {
          "base_uri": "https://localhost:8080/",
          "height": 52
        },
        "outputId": "e8a0fbb1-815c-4d9b-c52d-eb0d427ef0a4"
      },
      "source": [
        "print(sum(p.numel() for p in model2.parameters()))\n",
        "print(sum(p.numel() for p in model2.parameters() if p.requires_grad))"
      ],
      "execution_count": 29,
      "outputs": [
        {
          "output_type": "stream",
          "text": [
            "38522\n",
            "38522\n"
          ],
          "name": "stdout"
        }
      ]
    },
    {
      "cell_type": "code",
      "metadata": {
        "id": "6ASk8TTZT3B6",
        "colab_type": "code",
        "colab": {
          "base_uri": "https://localhost:8080/",
          "height": 35
        },
        "outputId": "272a2f42-0f72-400c-f6ec-e109d22a9eeb"
      },
      "source": [
        "history2 = [evaluate(model2, val_dl)]\n",
        "history2"
      ],
      "execution_count": 30,
      "outputs": [
        {
          "output_type": "execute_result",
          "data": {
            "text/plain": [
              "[{'val_acc': 0.09177134186029434, 'val_loss': 2.3075408935546875}]"
            ]
          },
          "metadata": {
            "tags": []
          },
          "execution_count": 30
        }
      ]
    },
    {
      "cell_type": "code",
      "metadata": {
        "id": "5QYrrglsUB_N",
        "colab_type": "code",
        "colab": {
          "base_uri": "https://localhost:8080/",
          "height": 225
        },
        "outputId": "990fc0ae-2e31-4f8f-d666-0fdc4f2048ad"
      },
      "source": [
        "%%time\n",
        "history2 = fit(num_epochs, lr, model2, train_dl, val_dl, opt_func)"
      ],
      "execution_count": 31,
      "outputs": [
        {
          "output_type": "stream",
          "text": [
            "Epoch [0], train_loss: 1.5366, val_loss: 1.3071, val_acc: 0.5936\n",
            "Epoch [1], train_loss: 1.1023, val_loss: 1.1898, val_acc: 0.6383\n",
            "Epoch [2], train_loss: 1.0267, val_loss: 1.1384, val_acc: 0.6614\n",
            "Epoch [3], train_loss: 0.9845, val_loss: 1.0997, val_acc: 0.6779\n",
            "Epoch [4], train_loss: 0.9520, val_loss: 1.1037, val_acc: 0.6782\n",
            "Epoch [5], train_loss: 0.9328, val_loss: 1.0888, val_acc: 0.6783\n",
            "Epoch [6], train_loss: 0.9178, val_loss: 1.0615, val_acc: 0.6895\n",
            "Epoch [7], train_loss: 0.8989, val_loss: 1.0688, val_acc: 0.6884\n",
            "Epoch [8], train_loss: 0.8918, val_loss: 1.0721, val_acc: 0.6903\n",
            "Epoch [9], train_loss: 0.8797, val_loss: 1.0813, val_acc: 0.6836\n",
            "CPU times: user 4min 51s, sys: 870 ms, total: 4min 52s\n",
            "Wall time: 4min 53s\n"
          ],
          "name": "stdout"
        }
      ]
    },
    {
      "cell_type": "code",
      "metadata": {
        "id": "YLNKAUipVNUO",
        "colab_type": "code",
        "colab": {
          "base_uri": "https://localhost:8080/",
          "height": 295
        },
        "outputId": "dfdb508c-4b0c-4dde-be44-c1485b11cdca"
      },
      "source": [
        "plot_accuracies(history2)"
      ],
      "execution_count": 32,
      "outputs": [
        {
          "output_type": "display_data",
          "data": {
            "image/png": "[encoded data removed]",
            "text/plain": [
              "<Figure size 432x288 with 1 Axes>"
            ]
          },
          "metadata": {
            "tags": [],
            "needs_background": "light"
          }
        }
      ]
    },
    {
      "cell_type": "code",
      "metadata": {
        "id": "ZXWTSQyrVOVo",
        "colab_type": "code",
        "colab": {
          "base_uri": "https://localhost:8080/",
          "height": 295
        },
        "outputId": "633d6069-e775-4358-a549-1a0dc905c5ff"
      },
      "source": [
        "plot_losses(history2)"
      ],
      "execution_count": 33,
      "outputs": [
        {
          "output_type": "display_data",
          "data": {
            "image/png": "[encoded data removed]",
            "text/plain": [
              "<Figure size 432x288 with 1 Axes>"
            ]
          },
          "metadata": {
            "tags": [],
            "needs_background": "light"
          }
        }
      ]
    },
    {
      "cell_type": "code",
      "metadata": {
        "id": "RME5q7Aqw8fC",
        "colab_type": "code",
        "colab": {}
      },
      "source": [
        "torch.save(model2.state_dict(), 'svhn_feedfwd.pth')"
      ],
      "execution_count": 34,
      "outputs": []
    },
    {
      "cell_type": "markdown",
      "metadata": {
        "id": "_zEBqXDGz26P",
        "colab_type": "text"
      },
      "source": [
        "## Convolution Neural Net + Feed Forward Net"
      ]
    },
    {
      "cell_type": "code",
      "metadata": {
        "id": "khQgWTQBztoD",
        "colab_type": "code",
        "colab": {}
      },
      "source": [
        "class CnnFnnModel(ImageClassificationBase):\n",
        "    def __init__(self):\n",
        "        super().__init__()\n",
        "        self.network = nn.Sequential(\n",
        "            nn.Conv2d(3, 32, kernel_size=3, padding=1),\n",
        "            nn.BatchNorm2d(32),\n",
        "            nn.ReLU(),\n",
        "            nn.Conv2d(32, 64, kernel_size=3, stride=1, padding=1),\n",
        "            nn.BatchNorm2d(64),\n",
        "            nn.ReLU(),\n",
        "            nn.MaxPool2d(2, 2), # output: 64 x 14 x 14\n",
        "            nn.Dropout(p=0.25),\n",
        "\n",
        "            nn.Conv2d(64, 128, kernel_size=3, stride=1, padding=1),\n",
        "            nn.BatchNorm2d(128),\n",
        "            nn.ReLU(),\n",
        "            nn.Conv2d(128, 256, kernel_size=3, stride=1, padding=1),\n",
        "            nn.BatchNorm2d(256),\n",
        "            nn.ReLU(),\n",
        "            nn.MaxPool2d(2, 2), # output: 128 x 7 x 7\n",
        "            nn.Dropout(p=0.25),\n",
        "\n",
        "            nn.Conv2d(256, 512, kernel_size=3, stride=1, padding=1),\n",
        "            nn.BatchNorm2d(512),\n",
        "            nn.ReLU(),\n",
        "            nn.Conv2d(512, 1024, kernel_size=3, stride=1, padding=1),\n",
        "            nn.BatchNorm2d(1024),\n",
        "            nn.ReLU(),\n",
        "            nn.MaxPool2d(2, 2), # output: 1024 x 3 x 3\n",
        "            nn.Dropout(p=0.25),\n",
        "\n",
        "            nn.Flatten(), \n",
        "            nn.Linear(1024*3*3, 1024),\n",
        "            nn.BatchNorm1d(1024),\n",
        "            nn.ReLU(),\n",
        "            nn.Dropout(p=0.25),\n",
        "            nn.Linear(1024, 512),\n",
        "            nn.BatchNorm1d(512),\n",
        "            nn.ReLU(),\n",
        "            #nn.Dropout(p=0.25),\n",
        "            nn.Linear(512, 10))\n",
        "        \n",
        "    def forward(self, xb):\n",
        "        return self.network(xb)"
      ],
      "execution_count": 35,
      "outputs": []
    },
    {
      "cell_type": "code",
      "metadata": {
        "id": "wT2PgnKzz9uW",
        "colab_type": "code",
        "colab": {
          "base_uri": "https://localhost:8080/",
          "height": 659
        },
        "outputId": "031d17ab-2d66-4680-a0e4-c2ee2684232b"
      },
      "source": [
        "model3 = CnnFnnModel()\n",
        "model3"
      ],
      "execution_count": 36,
      "outputs": [
        {
          "output_type": "execute_result",
          "data": {
            "text/plain": [
              "CnnFnnModel(\n",
              "  (network): Sequential(\n",
              "    (0): Conv2d(3, 32, kernel_size=(3, 3), stride=(1, 1), padding=(1, 1))\n",
              "    (1): BatchNorm2d(32, eps=1e-05, momentum=0.1, affine=True, track_running_stats=True)\n",
              "    (2): ReLU()\n",
              "    (3): Conv2d(32, 64, kernel_size=(3, 3), stride=(1, 1), padding=(1, 1))\n",
              "    (4): BatchNorm2d(64, eps=1e-05, momentum=0.1, affine=True, track_running_stats=True)\n",
              "    (5): ReLU()\n",
              "    (6): MaxPool2d(kernel_size=2, stride=2, padding=0, dilation=1, ceil_mode=False)\n",
              "    (7): Dropout(p=0.25, inplace=False)\n",
              "    (8): Conv2d(64, 128, kernel_size=(3, 3), stride=(1, 1), padding=(1, 1))\n",
              "    (9): BatchNorm2d(128, eps=1e-05, momentum=0.1, affine=True, track_running_stats=True)\n",
              "    (10): ReLU()\n",
              "    (11): Conv2d(128, 256, kernel_size=(3, 3), stride=(1, 1), padding=(1, 1))\n",
              "    (12): BatchNorm2d(256, eps=1e-05, momentum=0.1, affine=True, track_running_stats=True)\n",
              "    (13): ReLU()\n",
              "    (14): MaxPool2d(kernel_size=2, stride=2, padding=0, dilation=1, ceil_mode=False)\n",
              "    (15): Dropout(p=0.25, inplace=False)\n",
              "    (16): Conv2d(256, 512, kernel_size=(3, 3), stride=(1, 1), padding=(1, 1))\n",
              "    (17): BatchNorm2d(512, eps=1e-05, momentum=0.1, affine=True, track_running_stats=True)\n",
              "    (18): ReLU()\n",
              "    (19): Conv2d(512, 1024, kernel_size=(3, 3), stride=(1, 1), padding=(1, 1))\n",
              "    (20): BatchNorm2d(1024, eps=1e-05, momentum=0.1, affine=True, track_running_stats=True)\n",
              "    (21): ReLU()\n",
              "    (22): MaxPool2d(kernel_size=2, stride=2, padding=0, dilation=1, ceil_mode=False)\n",
              "    (23): Dropout(p=0.25, inplace=False)\n",
              "    (24): Flatten()\n",
              "    (25): Linear(in_features=9216, out_features=1024, bias=True)\n",
              "    (26): BatchNorm1d(1024, eps=1e-05, momentum=0.1, affine=True, track_running_stats=True)\n",
              "    (27): ReLU()\n",
              "    (28): Dropout(p=0.25, inplace=False)\n",
              "    (29): Linear(in_features=1024, out_features=512, bias=True)\n",
              "    (30): BatchNorm1d(512, eps=1e-05, momentum=0.1, affine=True, track_running_stats=True)\n",
              "    (31): ReLU()\n",
              "    (32): Linear(in_features=512, out_features=10, bias=True)\n",
              "  )\n",
              ")"
            ]
          },
          "metadata": {
            "tags": []
          },
          "execution_count": 36
        }
      ]
    },
    {
      "cell_type": "code",
      "metadata": {
        "id": "WFq08i9h0PAI",
        "colab_type": "code",
        "colab": {}
      },
      "source": [
        "model3 = to_device(CnnFnnModel(), device)"
      ],
      "execution_count": 37,
      "outputs": []
    },
    {
      "cell_type": "code",
      "metadata": {
        "id": "TQMqNyYh05pf",
        "colab_type": "code",
        "colab": {
          "base_uri": "https://localhost:8080/",
          "height": 815
        },
        "outputId": "2fc30aeb-7955-4fb3-d046-5861213351ec"
      },
      "source": [
        "summary(model3, input_size=(3, 28, 28))"
      ],
      "execution_count": 38,
      "outputs": [
        {
          "output_type": "stream",
          "text": [
            "----------------------------------------------------------------\n",
            "        Layer (type)               Output Shape         Param #\n",
            "================================================================\n",
            "            Conv2d-1           [-1, 32, 28, 28]             896\n",
            "       BatchNorm2d-2           [-1, 32, 28, 28]              64\n",
            "              ReLU-3           [-1, 32, 28, 28]               0\n",
            "            Conv2d-4           [-1, 64, 28, 28]          18,496\n",
            "       BatchNorm2d-5           [-1, 64, 28, 28]             128\n",
            "              ReLU-6           [-1, 64, 28, 28]               0\n",
            "         MaxPool2d-7           [-1, 64, 14, 14]               0\n",
            "           Dropout-8           [-1, 64, 14, 14]               0\n",
            "            Conv2d-9          [-1, 128, 14, 14]          73,856\n",
            "      BatchNorm2d-10          [-1, 128, 14, 14]             256\n",
            "             ReLU-11          [-1, 128, 14, 14]               0\n",
            "           Conv2d-12          [-1, 256, 14, 14]         295,168\n",
            "      BatchNorm2d-13          [-1, 256, 14, 14]             512\n",
            "             ReLU-14          [-1, 256, 14, 14]               0\n",
            "        MaxPool2d-15            [-1, 256, 7, 7]               0\n",
            "          Dropout-16            [-1, 256, 7, 7]               0\n",
            "           Conv2d-17            [-1, 512, 7, 7]       1,180,160\n",
            "      BatchNorm2d-18            [-1, 512, 7, 7]           1,024\n",
            "             ReLU-19            [-1, 512, 7, 7]               0\n",
            "           Conv2d-20           [-1, 1024, 7, 7]       4,719,616\n",
            "      BatchNorm2d-21           [-1, 1024, 7, 7]           2,048\n",
            "             ReLU-22           [-1, 1024, 7, 7]               0\n",
            "        MaxPool2d-23           [-1, 1024, 3, 3]               0\n",
            "          Dropout-24           [-1, 1024, 3, 3]               0\n",
            "          Flatten-25                 [-1, 9216]               0\n",
            "           Linear-26                 [-1, 1024]       9,438,208\n",
            "      BatchNorm1d-27                 [-1, 1024]           2,048\n",
            "             ReLU-28                 [-1, 1024]               0\n",
            "          Dropout-29                 [-1, 1024]               0\n",
            "           Linear-30                  [-1, 512]         524,800\n",
            "      BatchNorm1d-31                  [-1, 512]           1,024\n",
            "             ReLU-32                  [-1, 512]               0\n",
            "           Linear-33                   [-1, 10]           5,130\n",
            "================================================================\n",
            "Total params: 16,263,434\n",
            "Trainable params: 16,263,434\n",
            "Non-trainable params: 0\n",
            "----------------------------------------------------------------\n",
            "Input size (MB): 0.01\n",
            "Forward/backward pass size (MB): 5.80\n",
            "Params size (MB): 62.04\n",
            "Estimated Total Size (MB): 67.85\n",
            "----------------------------------------------------------------\n"
          ],
          "name": "stdout"
        }
      ]
    },
    {
      "cell_type": "code",
      "metadata": {
        "id": "DzikAWnK0Tj7",
        "colab_type": "code",
        "colab": {
          "base_uri": "https://localhost:8080/",
          "height": 52
        },
        "outputId": "3dbb41e9-9d6d-468a-bcb1-1f105197aacb"
      },
      "source": [
        "print(sum(p.numel() for p in model3.parameters()))\n",
        "print(sum(p.numel() for p in model3.parameters() if p.requires_grad))"
      ],
      "execution_count": 39,
      "outputs": [
        {
          "output_type": "stream",
          "text": [
            "16263434\n",
            "16263434\n"
          ],
          "name": "stdout"
        }
      ]
    },
    {
      "cell_type": "code",
      "metadata": {
        "id": "5v8OBFCy0XEL",
        "colab_type": "code",
        "colab": {
          "base_uri": "https://localhost:8080/",
          "height": 35
        },
        "outputId": "3ba73dbd-d799-4f7b-af2c-05aaaea4e778"
      },
      "source": [
        "history3 = evaluate(model3, val_dl)\n",
        "history3"
      ],
      "execution_count": 40,
      "outputs": [
        {
          "output_type": "execute_result",
          "data": {
            "text/plain": [
              "{'val_acc': 0.09174581617116928, 'val_loss': 2.3004884719848633}"
            ]
          },
          "metadata": {
            "tags": []
          },
          "execution_count": 40
        }
      ]
    },
    {
      "cell_type": "code",
      "metadata": {
        "id": "eU_G5n6k0m8W",
        "colab_type": "code",
        "colab": {
          "base_uri": "https://localhost:8080/",
          "height": 225
        },
        "outputId": "dc674c16-9880-4e96-e3ef-5504c910b8cc"
      },
      "source": [
        "%%time\n",
        "history3 = fit(num_epochs, lr, model3, train_dl, val_dl, opt_func)"
      ],
      "execution_count": 41,
      "outputs": [
        {
          "output_type": "stream",
          "text": [
            "Epoch [0], train_loss: 0.5886, val_loss: 0.3015, val_acc: 0.9138\n",
            "Epoch [1], train_loss: 0.2851, val_loss: 0.2304, val_acc: 0.9322\n",
            "Epoch [2], train_loss: 0.2306, val_loss: 0.2118, val_acc: 0.9403\n",
            "Epoch [3], train_loss: 0.1980, val_loss: 0.1981, val_acc: 0.9430\n",
            "Epoch [4], train_loss: 0.1729, val_loss: 0.1894, val_acc: 0.9467\n",
            "Epoch [5], train_loss: 0.1520, val_loss: 0.1911, val_acc: 0.9477\n",
            "Epoch [6], train_loss: 0.1314, val_loss: 0.1847, val_acc: 0.9494\n",
            "Epoch [7], train_loss: 0.1172, val_loss: 0.1926, val_acc: 0.9473\n",
            "Epoch [8], train_loss: 0.0987, val_loss: 0.2092, val_acc: 0.9471\n",
            "Epoch [9], train_loss: 0.0861, val_loss: 0.2024, val_acc: 0.9491\n",
            "CPU times: user 10min 23s, sys: 2min 55s, total: 13min 18s\n",
            "Wall time: 13min 20s\n"
          ],
          "name": "stdout"
        }
      ]
    },
    {
      "cell_type": "code",
      "metadata": {
        "id": "FJ4D6FT41Dn1",
        "colab_type": "code",
        "colab": {
          "base_uri": "https://localhost:8080/",
          "height": 295
        },
        "outputId": "fcbad3c2-7135-4c4f-96ba-957d619dba4e"
      },
      "source": [
        "plot_accuracies(history3)"
      ],
      "execution_count": 42,
      "outputs": [
        {
          "output_type": "display_data",
          "data": {
            "image/png": "[encoded data removed]",
            "text/plain": [
              "<Figure size 432x288 with 1 Axes>"
            ]
          },
          "metadata": {
            "tags": [],
            "needs_background": "light"
          }
        }
      ]
    },
    {
      "cell_type": "code",
      "metadata": {
        "id": "SjfCQM4x1IK8",
        "colab_type": "code",
        "colab": {
          "base_uri": "https://localhost:8080/",
          "height": 295
        },
        "outputId": "4764e872-9f45-4dd3-ea59-471bac8aefd2"
      },
      "source": [
        "plot_losses(history3)"
      ],
      "execution_count": 43,
      "outputs": [
        {
          "output_type": "display_data",
          "data": {
            "image/png": "[encoded data removed]",
            "text/plain": [
              "<Figure size 432x288 with 1 Axes>"
            ]
          },
          "metadata": {
            "tags": [],
            "needs_background": "light"
          }
        }
      ]
    },
    {
      "cell_type": "code",
      "metadata": {
        "id": "4IF_jdzV1In1",
        "colab_type": "code",
        "colab": {}
      },
      "source": [
        "torch.save(model3.state_dict(), 'svhn_cnnfnn.pth')"
      ],
      "execution_count": 44,
      "outputs": []
    },
    {
      "cell_type": "markdown",
      "metadata": {
        "id": "eGKPHq9Oz-Q9",
        "colab_type": "text"
      },
      "source": [
        "## Convolutional Neural Network"
      ]
    },
    {
      "cell_type": "code",
      "metadata": {
        "id": "6GUz6rnKV_vk",
        "colab_type": "code",
        "colab": {}
      },
      "source": [
        "class CnnModel(ImageClassificationBase):\n",
        "    def __init__(self):\n",
        "        super().__init__()\n",
        "        self.network = nn.Sequential(\n",
        "            nn.Conv2d(3, 16, kernel_size=3, padding=1),\n",
        "            nn.BatchNorm2d(16),\n",
        "            nn.ReLU(),\n",
        "            \n",
        "            nn.Conv2d(16, 32, kernel_size=3, stride=1, padding=1),\n",
        "            nn.BatchNorm2d(32),\n",
        "            nn.ReLU(),\n",
        "            nn.Conv2d(32, 64, kernel_size=3, stride=1, padding=1),\n",
        "            #nn.BatchNorm2d(64),\n",
        "            nn.ReLU(),\n",
        "            nn.Conv2d(64, 128, kernel_size=3, stride=1, padding=1),\n",
        "            nn.BatchNorm2d(128),\n",
        "            nn.ReLU(),\n",
        "            nn.Conv2d(128, 256, kernel_size=3, stride=1, padding=1),\n",
        "            #nn.BatchNorm2d(256),\n",
        "            nn.ReLU(),\n",
        "            \n",
        "            nn.Conv2d(256, 16, kernel_size=1, stride=1, padding=0),\n",
        "            nn.MaxPool2d(2, 2), # output: 16 x 14 x 14\n",
        "            nn.Dropout(p=0.25),\n",
        "\n",
        "            nn.Conv2d(16, 32, kernel_size=3, stride=1, padding=0),\n",
        "            #nn.BatchNorm2d(32),\n",
        "            nn.ReLU(),\n",
        "            nn.Conv2d(32, 64, kernel_size=3, stride=1, padding=0),\n",
        "            nn.BatchNorm2d(64),\n",
        "            nn.ReLU(),\n",
        "            nn.Conv2d(64, 128, kernel_size=3, stride=1, padding=0),\n",
        "            #nn.BatchNorm2d(128),\n",
        "            nn.ReLU(),\n",
        "            nn.Conv2d(128, 256, kernel_size=3, stride=1, padding=0),\n",
        "            nn.BatchNorm2d(256),\n",
        "            nn.ReLU(),\n",
        "\n",
        "            nn.Conv2d(256, 10, kernel_size=1, stride=1, padding=1),\n",
        "            #nn.MaxPool2d(2, 2), # output: 10 x 3 x 3\n",
        "\n",
        "            nn.AvgPool2d(kernel_size=6),           \n",
        "            nn.Flatten(),\n",
        "            nn.Softmax())\n",
        "        \n",
        "    def forward(self, xb):\n",
        "        return self.network(xb)"
      ],
      "execution_count": 45,
      "outputs": []
    },
    {
      "cell_type": "code",
      "metadata": {
        "id": "uYz1sYQuKBOq",
        "colab_type": "code",
        "colab": {
          "base_uri": "https://localhost:8080/",
          "height": 607
        },
        "outputId": "7985640b-f98b-460a-8bd2-42a6f9d45487"
      },
      "source": [
        "model4 = CnnModel()\n",
        "model4"
      ],
      "execution_count": 46,
      "outputs": [
        {
          "output_type": "execute_result",
          "data": {
            "text/plain": [
              "CnnModel(\n",
              "  (network): Sequential(\n",
              "    (0): Conv2d(3, 16, kernel_size=(3, 3), stride=(1, 1), padding=(1, 1))\n",
              "    (1): BatchNorm2d(16, eps=1e-05, momentum=0.1, affine=True, track_running_stats=True)\n",
              "    (2): ReLU()\n",
              "    (3): Conv2d(16, 32, kernel_size=(3, 3), stride=(1, 1), padding=(1, 1))\n",
              "    (4): BatchNorm2d(32, eps=1e-05, momentum=0.1, affine=True, track_running_stats=True)\n",
              "    (5): ReLU()\n",
              "    (6): Conv2d(32, 64, kernel_size=(3, 3), stride=(1, 1), padding=(1, 1))\n",
              "    (7): ReLU()\n",
              "    (8): Conv2d(64, 128, kernel_size=(3, 3), stride=(1, 1), padding=(1, 1))\n",
              "    (9): BatchNorm2d(128, eps=1e-05, momentum=0.1, affine=True, track_running_stats=True)\n",
              "    (10): ReLU()\n",
              "    (11): Conv2d(128, 256, kernel_size=(3, 3), stride=(1, 1), padding=(1, 1))\n",
              "    (12): ReLU()\n",
              "    (13): Conv2d(256, 16, kernel_size=(1, 1), stride=(1, 1))\n",
              "    (14): MaxPool2d(kernel_size=2, stride=2, padding=0, dilation=1, ceil_mode=False)\n",
              "    (15): Dropout(p=0.25, inplace=False)\n",
              "    (16): Conv2d(16, 32, kernel_size=(3, 3), stride=(1, 1))\n",
              "    (17): ReLU()\n",
              "    (18): Conv2d(32, 64, kernel_size=(3, 3), stride=(1, 1))\n",
              "    (19): BatchNorm2d(64, eps=1e-05, momentum=0.1, affine=True, track_running_stats=True)\n",
              "    (20): ReLU()\n",
              "    (21): Conv2d(64, 128, kernel_size=(3, 3), stride=(1, 1))\n",
              "    (22): ReLU()\n",
              "    (23): Conv2d(128, 256, kernel_size=(3, 3), stride=(1, 1))\n",
              "    (24): BatchNorm2d(256, eps=1e-05, momentum=0.1, affine=True, track_running_stats=True)\n",
              "    (25): ReLU()\n",
              "    (26): Conv2d(256, 10, kernel_size=(1, 1), stride=(1, 1), padding=(1, 1))\n",
              "    (27): AvgPool2d(kernel_size=6, stride=6, padding=0)\n",
              "    (28): Flatten()\n",
              "    (29): Softmax(dim=None)\n",
              "  )\n",
              ")"
            ]
          },
          "metadata": {
            "tags": []
          },
          "execution_count": 46
        }
      ]
    },
    {
      "cell_type": "code",
      "metadata": {
        "id": "kkXrsEXQKQh9",
        "colab_type": "code",
        "colab": {}
      },
      "source": [
        "model4 = to_device(CnnModel(), device)"
      ],
      "execution_count": 47,
      "outputs": []
    },
    {
      "cell_type": "code",
      "metadata": {
        "id": "B4jRNIefKXtm",
        "colab_type": "code",
        "colab": {
          "base_uri": "https://localhost:8080/",
          "height": 817
        },
        "outputId": "ccf4e641-691d-4c0a-fdd7-3ae2b669e514"
      },
      "source": [
        "summary(model4, input_size=(3, 28, 28))"
      ],
      "execution_count": 48,
      "outputs": [
        {
          "output_type": "stream",
          "text": [
            "----------------------------------------------------------------\n",
            "        Layer (type)               Output Shape         Param #\n",
            "================================================================\n",
            "            Conv2d-1           [-1, 16, 28, 28]             448\n",
            "       BatchNorm2d-2           [-1, 16, 28, 28]              32\n",
            "              ReLU-3           [-1, 16, 28, 28]               0\n",
            "            Conv2d-4           [-1, 32, 28, 28]           4,640\n",
            "       BatchNorm2d-5           [-1, 32, 28, 28]              64\n",
            "              ReLU-6           [-1, 32, 28, 28]               0\n",
            "            Conv2d-7           [-1, 64, 28, 28]          18,496\n",
            "              ReLU-8           [-1, 64, 28, 28]               0\n",
            "            Conv2d-9          [-1, 128, 28, 28]          73,856\n",
            "      BatchNorm2d-10          [-1, 128, 28, 28]             256\n",
            "             ReLU-11          [-1, 128, 28, 28]               0\n",
            "           Conv2d-12          [-1, 256, 28, 28]         295,168\n",
            "             ReLU-13          [-1, 256, 28, 28]               0\n",
            "           Conv2d-14           [-1, 16, 28, 28]           4,112\n",
            "        MaxPool2d-15           [-1, 16, 14, 14]               0\n",
            "          Dropout-16           [-1, 16, 14, 14]               0\n",
            "           Conv2d-17           [-1, 32, 12, 12]           4,640\n",
            "             ReLU-18           [-1, 32, 12, 12]               0\n",
            "           Conv2d-19           [-1, 64, 10, 10]          18,496\n",
            "      BatchNorm2d-20           [-1, 64, 10, 10]             128\n",
            "             ReLU-21           [-1, 64, 10, 10]               0\n",
            "           Conv2d-22            [-1, 128, 8, 8]          73,856\n",
            "             ReLU-23            [-1, 128, 8, 8]               0\n",
            "           Conv2d-24            [-1, 256, 6, 6]         295,168\n",
            "      BatchNorm2d-25            [-1, 256, 6, 6]             512\n",
            "             ReLU-26            [-1, 256, 6, 6]               0\n",
            "           Conv2d-27             [-1, 10, 8, 8]           2,570\n",
            "        AvgPool2d-28             [-1, 10, 1, 1]               0\n",
            "          Flatten-29                   [-1, 10]               0\n",
            "          Softmax-30                   [-1, 10]               0\n",
            "================================================================\n",
            "Total params: 792,442\n",
            "Trainable params: 792,442\n",
            "Non-trainable params: 0\n",
            "----------------------------------------------------------------\n",
            "Input size (MB): 0.01\n",
            "Forward/backward pass size (MB): 7.69\n",
            "Params size (MB): 3.02\n",
            "Estimated Total Size (MB): 10.72\n",
            "----------------------------------------------------------------\n"
          ],
          "name": "stdout"
        },
        {
          "output_type": "stream",
          "text": [
            "/usr/local/lib/python3.6/dist-packages/torch/nn/modules/container.py:100: UserWarning: Implicit dimension choice for softmax has been deprecated. Change the call to include dim=X as an argument.\n",
            "  input = module(input)\n"
          ],
          "name": "stderr"
        }
      ]
    },
    {
      "cell_type": "code",
      "metadata": {
        "id": "6-cH9pzWxzZ5",
        "colab_type": "code",
        "colab": {
          "base_uri": "https://localhost:8080/",
          "height": 52
        },
        "outputId": "4f588a77-433f-4ece-a6b2-1b911f81d9f7"
      },
      "source": [
        "print(sum(p.numel() for p in model4.parameters()))\n",
        "print(sum(p.numel() for p in model4.parameters() if p.requires_grad))"
      ],
      "execution_count": 49,
      "outputs": [
        {
          "output_type": "stream",
          "text": [
            "792442\n",
            "792442\n"
          ],
          "name": "stdout"
        }
      ]
    },
    {
      "cell_type": "code",
      "metadata": {
        "id": "T70f_1neKgRx",
        "colab_type": "code",
        "colab": {
          "base_uri": "https://localhost:8080/",
          "height": 89
        },
        "outputId": "4645106e-53d6-4a69-a9d0-493f6acab4ca"
      },
      "source": [
        "history4 = evaluate(model4, val_dl)\n",
        "history4"
      ],
      "execution_count": 50,
      "outputs": [
        {
          "output_type": "stream",
          "text": [
            "/usr/local/lib/python3.6/dist-packages/torch/nn/modules/container.py:100: UserWarning: Implicit dimension choice for softmax has been deprecated. Change the call to include dim=X as an argument.\n",
            "  input = module(input)\n"
          ],
          "name": "stderr"
        },
        {
          "output_type": "execute_result",
          "data": {
            "text/plain": [
              "{'val_acc': 0.1595945805311203, 'val_loss': 2.302393913269043}"
            ]
          },
          "metadata": {
            "tags": []
          },
          "execution_count": 50
        }
      ]
    },
    {
      "cell_type": "code",
      "metadata": {
        "id": "2yQa4bkyKpsf",
        "colab_type": "code",
        "colab": {
          "base_uri": "https://localhost:8080/",
          "height": 280
        },
        "outputId": "77e8676a-bf38-4714-e38b-48b26eeabac2"
      },
      "source": [
        "%%time\n",
        "history4 = fit(num_epochs, lr, model4, train_dl, val_dl, opt_func)"
      ],
      "execution_count": 51,
      "outputs": [
        {
          "output_type": "stream",
          "text": [
            "/usr/local/lib/python3.6/dist-packages/torch/nn/modules/container.py:100: UserWarning: Implicit dimension choice for softmax has been deprecated. Change the call to include dim=X as an argument.\n",
            "  input = module(input)\n"
          ],
          "name": "stderr"
        },
        {
          "output_type": "stream",
          "text": [
            "Epoch [0], train_loss: 1.6944, val_loss: 1.5676, val_acc: 0.9012\n",
            "Epoch [1], train_loss: 1.5691, val_loss: 1.5508, val_acc: 0.9178\n",
            "Epoch [2], train_loss: 1.5543, val_loss: 1.5439, val_acc: 0.9205\n",
            "Epoch [3], train_loss: 1.5481, val_loss: 1.5471, val_acc: 0.9162\n",
            "Epoch [4], train_loss: 1.5426, val_loss: 1.5323, val_acc: 0.9308\n",
            "Epoch [5], train_loss: 1.5373, val_loss: 1.5314, val_acc: 0.9314\n",
            "Epoch [6], train_loss: 1.5340, val_loss: 1.5261, val_acc: 0.9363\n",
            "Epoch [7], train_loss: 1.5315, val_loss: 1.5238, val_acc: 0.9389\n",
            "Epoch [8], train_loss: 1.5266, val_loss: 1.5207, val_acc: 0.9421\n",
            "Epoch [9], train_loss: 1.5263, val_loss: 1.5238, val_acc: 0.9386\n",
            "CPU times: user 10min 41s, sys: 3min 3s, total: 13min 45s\n",
            "Wall time: 13min 47s\n"
          ],
          "name": "stdout"
        }
      ]
    },
    {
      "cell_type": "code",
      "metadata": {
        "id": "OGyWUlevLLta",
        "colab_type": "code",
        "colab": {
          "base_uri": "https://localhost:8080/",
          "height": 295
        },
        "outputId": "96a1f653-89a9-4a57-a9f6-3e1d9127dd0f"
      },
      "source": [
        "plot_accuracies(history4)"
      ],
      "execution_count": 52,
      "outputs": [
        {
          "output_type": "display_data",
          "data": {
            "image/png": "[encoded data removed]",
            "text/plain": [
              "<Figure size 432x288 with 1 Axes>"
            ]
          },
          "metadata": {
            "tags": [],
            "needs_background": "light"
          }
        }
      ]
    },
    {
      "cell_type": "code",
      "metadata": {
        "id": "roaCTHijLR1J",
        "colab_type": "code",
        "colab": {
          "base_uri": "https://localhost:8080/",
          "height": 295
        },
        "outputId": "c88b1d84-a8b9-4c72-aa32-902f696a450e"
      },
      "source": [
        "plot_losses(history4)"
      ],
      "execution_count": 53,
      "outputs": [
        {
          "output_type": "display_data",
          "data": {
            "image/png": "[encoded data removed]",
            "text/plain": [
              "<Figure size 432x288 with 1 Axes>"
            ]
          },
          "metadata": {
            "tags": [],
            "needs_background": "light"
          }
        }
      ]
    },
    {
      "cell_type": "code",
      "metadata": {
        "id": "n5RkJUqWw3K1",
        "colab_type": "code",
        "colab": {}
      },
      "source": [
        "torch.save(model4.state_dict(), 'svhn_cnn.pth')"
      ],
      "execution_count": 54,
      "outputs": []
    },
    {
      "cell_type": "markdown",
      "metadata": {
        "id": "HOsmkKos2SM1",
        "colab_type": "text"
      },
      "source": [
        "## ResNet"
      ]
    },
    {
      "cell_type": "code",
      "metadata": {
        "id": "nNt67OYHivQn",
        "colab_type": "code",
        "colab": {}
      },
      "source": [
        "def conv_block(in_channels, out_channels, pool=False):\n",
        "    layers = [nn.Conv2d(in_channels, out_channels, kernel_size=3, padding=1), \n",
        "              nn.BatchNorm2d(out_channels), \n",
        "              nn.ReLU(inplace=True)]\n",
        "    if pool: layers.append(nn.MaxPool2d(2))\n",
        "    return nn.Sequential(*layers)\n",
        "\n",
        "class ResNet(ImageClassificationBase):\n",
        "    def __init__(self, in_channels, num_classes):\n",
        "        super().__init__()\n",
        "        \n",
        "        self.conv1 = conv_block(in_channels, 64)\n",
        "        self.conv2 = conv_block(64, 128, pool=True)\n",
        "        self.res1 = nn.Sequential(conv_block(128, 128), conv_block(128, 128))\n",
        "        \n",
        "        self.conv3 = conv_block(128, 256, pool=True)\n",
        "        self.conv4 = conv_block(256, 512, pool=True)\n",
        "        self.res2 = nn.Sequential(conv_block(512, 512), conv_block(512, 512))\n",
        "        \n",
        "        self.classifier = nn.Sequential(nn.MaxPool2d(3), \n",
        "                                        nn.Flatten(), \n",
        "                                        nn.Linear(512, num_classes))\n",
        "        \n",
        "    def forward(self, xb):\n",
        "        out = self.conv1(xb)\n",
        "        out = self.conv2(out)\n",
        "        out = self.res1(out) + out\n",
        "        out = self.conv3(out)\n",
        "        out = self.conv4(out)\n",
        "        out = self.res2(out) + out\n",
        "        out = self.classifier(out)\n",
        "        return out"
      ],
      "execution_count": 55,
      "outputs": []
    },
    {
      "cell_type": "code",
      "metadata": {
        "id": "a2bPvi4IiydZ",
        "colab_type": "code",
        "colab": {
          "base_uri": "https://localhost:8080/",
          "height": 953
        },
        "outputId": "b9db2d88-882b-4284-b095-ad127d24f8ec"
      },
      "source": [
        "model5 = to_device(ResNet(3, 10), device)\n",
        "model5"
      ],
      "execution_count": 56,
      "outputs": [
        {
          "output_type": "execute_result",
          "data": {
            "text/plain": [
              "ResNet(\n",
              "  (conv1): Sequential(\n",
              "    (0): Conv2d(3, 64, kernel_size=(3, 3), stride=(1, 1), padding=(1, 1))\n",
              "    (1): BatchNorm2d(64, eps=1e-05, momentum=0.1, affine=True, track_running_stats=True)\n",
              "    (2): ReLU(inplace=True)\n",
              "  )\n",
              "  (conv2): Sequential(\n",
              "    (0): Conv2d(64, 128, kernel_size=(3, 3), stride=(1, 1), padding=(1, 1))\n",
              "    (1): BatchNorm2d(128, eps=1e-05, momentum=0.1, affine=True, track_running_stats=True)\n",
              "    (2): ReLU(inplace=True)\n",
              "    (3): MaxPool2d(kernel_size=2, stride=2, padding=0, dilation=1, ceil_mode=False)\n",
              "  )\n",
              "  (res1): Sequential(\n",
              "    (0): Sequential(\n",
              "      (0): Conv2d(128, 128, kernel_size=(3, 3), stride=(1, 1), padding=(1, 1))\n",
              "      (1): BatchNorm2d(128, eps=1e-05, momentum=0.1, affine=True, track_running_stats=True)\n",
              "      (2): ReLU(inplace=True)\n",
              "    )\n",
              "    (1): Sequential(\n",
              "      (0): Conv2d(128, 128, kernel_size=(3, 3), stride=(1, 1), padding=(1, 1))\n",
              "      (1): BatchNorm2d(128, eps=1e-05, momentum=0.1, affine=True, track_running_stats=True)\n",
              "      (2): ReLU(inplace=True)\n",
              "    )\n",
              "  )\n",
              "  (conv3): Sequential(\n",
              "    (0): Conv2d(128, 256, kernel_size=(3, 3), stride=(1, 1), padding=(1, 1))\n",
              "    (1): BatchNorm2d(256, eps=1e-05, momentum=0.1, affine=True, track_running_stats=True)\n",
              "    (2): ReLU(inplace=True)\n",
              "    (3): MaxPool2d(kernel_size=2, stride=2, padding=0, dilation=1, ceil_mode=False)\n",
              "  )\n",
              "  (conv4): Sequential(\n",
              "    (0): Conv2d(256, 512, kernel_size=(3, 3), stride=(1, 1), padding=(1, 1))\n",
              "    (1): BatchNorm2d(512, eps=1e-05, momentum=0.1, affine=True, track_running_stats=True)\n",
              "    (2): ReLU(inplace=True)\n",
              "    (3): MaxPool2d(kernel_size=2, stride=2, padding=0, dilation=1, ceil_mode=False)\n",
              "  )\n",
              "  (res2): Sequential(\n",
              "    (0): Sequential(\n",
              "      (0): Conv2d(512, 512, kernel_size=(3, 3), stride=(1, 1), padding=(1, 1))\n",
              "      (1): BatchNorm2d(512, eps=1e-05, momentum=0.1, affine=True, track_running_stats=True)\n",
              "      (2): ReLU(inplace=True)\n",
              "    )\n",
              "    (1): Sequential(\n",
              "      (0): Conv2d(512, 512, kernel_size=(3, 3), stride=(1, 1), padding=(1, 1))\n",
              "      (1): BatchNorm2d(512, eps=1e-05, momentum=0.1, affine=True, track_running_stats=True)\n",
              "      (2): ReLU(inplace=True)\n",
              "    )\n",
              "  )\n",
              "  (classifier): Sequential(\n",
              "    (0): MaxPool2d(kernel_size=3, stride=3, padding=0, dilation=1, ceil_mode=False)\n",
              "    (1): Flatten()\n",
              "    (2): Linear(in_features=512, out_features=10, bias=True)\n",
              "  )\n",
              ")"
            ]
          },
          "metadata": {
            "tags": []
          },
          "execution_count": 56
        }
      ]
    },
    {
      "cell_type": "code",
      "metadata": {
        "id": "zrbtx2RyyQl6",
        "colab_type": "code",
        "colab": {
          "base_uri": "https://localhost:8080/",
          "height": 763
        },
        "outputId": "9041c21d-4c2c-48c9-f46a-46d6dea96425"
      },
      "source": [
        "summary(model5, input_size=(3, 28, 28))"
      ],
      "execution_count": 57,
      "outputs": [
        {
          "output_type": "stream",
          "text": [
            "----------------------------------------------------------------\n",
            "        Layer (type)               Output Shape         Param #\n",
            "================================================================\n",
            "            Conv2d-1           [-1, 64, 28, 28]           1,792\n",
            "       BatchNorm2d-2           [-1, 64, 28, 28]             128\n",
            "              ReLU-3           [-1, 64, 28, 28]               0\n",
            "            Conv2d-4          [-1, 128, 28, 28]          73,856\n",
            "       BatchNorm2d-5          [-1, 128, 28, 28]             256\n",
            "              ReLU-6          [-1, 128, 28, 28]               0\n",
            "         MaxPool2d-7          [-1, 128, 14, 14]               0\n",
            "            Conv2d-8          [-1, 128, 14, 14]         147,584\n",
            "       BatchNorm2d-9          [-1, 128, 14, 14]             256\n",
            "             ReLU-10          [-1, 128, 14, 14]               0\n",
            "           Conv2d-11          [-1, 128, 14, 14]         147,584\n",
            "      BatchNorm2d-12          [-1, 128, 14, 14]             256\n",
            "             ReLU-13          [-1, 128, 14, 14]               0\n",
            "           Conv2d-14          [-1, 256, 14, 14]         295,168\n",
            "      BatchNorm2d-15          [-1, 256, 14, 14]             512\n",
            "             ReLU-16          [-1, 256, 14, 14]               0\n",
            "        MaxPool2d-17            [-1, 256, 7, 7]               0\n",
            "           Conv2d-18            [-1, 512, 7, 7]       1,180,160\n",
            "      BatchNorm2d-19            [-1, 512, 7, 7]           1,024\n",
            "             ReLU-20            [-1, 512, 7, 7]               0\n",
            "        MaxPool2d-21            [-1, 512, 3, 3]               0\n",
            "           Conv2d-22            [-1, 512, 3, 3]       2,359,808\n",
            "      BatchNorm2d-23            [-1, 512, 3, 3]           1,024\n",
            "             ReLU-24            [-1, 512, 3, 3]               0\n",
            "           Conv2d-25            [-1, 512, 3, 3]       2,359,808\n",
            "      BatchNorm2d-26            [-1, 512, 3, 3]           1,024\n",
            "             ReLU-27            [-1, 512, 3, 3]               0\n",
            "        MaxPool2d-28            [-1, 512, 1, 1]               0\n",
            "          Flatten-29                  [-1, 512]               0\n",
            "           Linear-30                   [-1, 10]           5,130\n",
            "================================================================\n",
            "Total params: 6,575,370\n",
            "Trainable params: 6,575,370\n",
            "Non-trainable params: 0\n",
            "----------------------------------------------------------------\n",
            "Input size (MB): 0.01\n",
            "Forward/backward pass size (MB): 6.86\n",
            "Params size (MB): 25.08\n",
            "Estimated Total Size (MB): 31.95\n",
            "----------------------------------------------------------------\n"
          ],
          "name": "stdout"
        }
      ]
    },
    {
      "cell_type": "code",
      "metadata": {
        "id": "PYS_LD33x9Us",
        "colab_type": "code",
        "colab": {
          "base_uri": "https://localhost:8080/",
          "height": 52
        },
        "outputId": "db93143a-9535-4820-995b-acef984dfbaf"
      },
      "source": [
        "print(sum(p.numel() for p in model5.parameters()))\n",
        "print(sum(p.numel() for p in model5.parameters() if p.requires_grad))"
      ],
      "execution_count": 58,
      "outputs": [
        {
          "output_type": "stream",
          "text": [
            "6575370\n",
            "6575370\n"
          ],
          "name": "stdout"
        }
      ]
    },
    {
      "cell_type": "code",
      "metadata": {
        "id": "86B81PxZi5zK",
        "colab_type": "code",
        "colab": {}
      },
      "source": [
        "def get_lr(optimizer):\n",
        "    for param_group in optimizer.param_groups:\n",
        "        return param_group['lr']\n",
        "\n",
        "def fit_one_cycle(epochs, max_lr, model, train_loader, val_loader, \n",
        "                  weight_decay=0, grad_clip=None, opt_func=torch.optim.SGD):\n",
        "    torch.cuda.empty_cache()\n",
        "    history = []\n",
        "    \n",
        "    # Set up cutom optimizer with weight decay\n",
        "    optimizer = opt_func(model.parameters(), max_lr, weight_decay=weight_decay)\n",
        "    # Set up one-cycle learning rate scheduler\n",
        "    sched = torch.optim.lr_scheduler.OneCycleLR(optimizer, max_lr, epochs=epochs, \n",
        "                                                steps_per_epoch=len(train_loader))\n",
        "    \n",
        "    for epoch in range(epochs):\n",
        "        # Training Phase \n",
        "        model.train()\n",
        "        train_losses = []\n",
        "        lrs = []\n",
        "        for batch in train_loader:\n",
        "            loss = model.training_step(batch)\n",
        "            train_losses.append(loss)\n",
        "            loss.backward()\n",
        "            \n",
        "            # Gradient clipping\n",
        "            if grad_clip: \n",
        "                nn.utils.clip_grad_value_(model.parameters(), grad_clip)\n",
        "            \n",
        "            optimizer.step()\n",
        "            optimizer.zero_grad()\n",
        "            \n",
        "            # Record & update learning rate\n",
        "            lrs.append(get_lr(optimizer))\n",
        "            sched.step()\n",
        "        \n",
        "        # Validation phase\n",
        "        result = evaluate(model, val_loader)\n",
        "        result['train_loss'] = torch.stack(train_losses).mean().item()\n",
        "        result['lrs'] = lrs\n",
        "        model.epoch_end(epoch, result)\n",
        "        history.append(result)\n",
        "    return history"
      ],
      "execution_count": 59,
      "outputs": []
    },
    {
      "cell_type": "code",
      "metadata": {
        "id": "XIS9ybUhjVR5",
        "colab_type": "code",
        "colab": {
          "base_uri": "https://localhost:8080/",
          "height": 35
        },
        "outputId": "7709800b-eb15-48c2-9dc6-e4dd0b15ff3c"
      },
      "source": [
        "history5 = [evaluate(model5, val_dl)]\n",
        "history5"
      ],
      "execution_count": 60,
      "outputs": [
        {
          "output_type": "execute_result",
          "data": {
            "text/plain": [
              "[{'val_acc': 0.0912351906299591, 'val_loss': 2.3085780143737793}]"
            ]
          },
          "metadata": {
            "tags": []
          },
          "execution_count": 60
        }
      ]
    },
    {
      "cell_type": "code",
      "metadata": {
        "id": "nteRieqpj6gH",
        "colab_type": "code",
        "colab": {}
      },
      "source": [
        "grad_clip = 0.1\n",
        "weight_decay = 1e-4"
      ],
      "execution_count": 61,
      "outputs": []
    },
    {
      "cell_type": "code",
      "metadata": {
        "id": "_jV77qQMj96Z",
        "colab_type": "code",
        "colab": {
          "base_uri": "https://localhost:8080/",
          "height": 225
        },
        "outputId": "e2c5543c-936d-43e1-f661-1e9ba31c3f92"
      },
      "source": [
        "%%time\n",
        "history5 = fit_one_cycle(num_epochs, lr, model5, train_dl, val_dl, \n",
        "                             grad_clip=grad_clip, \n",
        "                             weight_decay=weight_decay, \n",
        "                             opt_func=opt_func)"
      ],
      "execution_count": 62,
      "outputs": [
        {
          "output_type": "stream",
          "text": [
            "Epoch [0], train_loss: 0.7483, val_loss: 0.4389, val_acc: 0.8626\n",
            "Epoch [1], train_loss: 0.3013, val_loss: 0.3314, val_acc: 0.9033\n",
            "Epoch [2], train_loss: 0.2425, val_loss: 0.3084, val_acc: 0.9095\n",
            "Epoch [3], train_loss: 0.1897, val_loss: 0.2684, val_acc: 0.9227\n",
            "Epoch [4], train_loss: 0.1499, val_loss: 0.2228, val_acc: 0.9365\n",
            "Epoch [5], train_loss: 0.1090, val_loss: 0.2114, val_acc: 0.9441\n",
            "Epoch [6], train_loss: 0.0612, val_loss: 0.1882, val_acc: 0.9526\n",
            "Epoch [7], train_loss: 0.0196, val_loss: 0.1811, val_acc: 0.9564\n",
            "Epoch [8], train_loss: 0.0040, val_loss: 0.1747, val_acc: 0.9595\n",
            "Epoch [9], train_loss: 0.0019, val_loss: 0.1751, val_acc: 0.9595\n",
            "CPU times: user 15min, sys: 6min 38s, total: 21min 39s\n",
            "Wall time: 21min 42s\n"
          ],
          "name": "stdout"
        }
      ]
    },
    {
      "cell_type": "code",
      "metadata": {
        "id": "BSZi5g81kR8W",
        "colab_type": "code",
        "colab": {
          "base_uri": "https://localhost:8080/",
          "height": 295
        },
        "outputId": "28dd6c84-2495-4d77-fbda-f33418aa301d"
      },
      "source": [
        "plot_accuracies(history5)"
      ],
      "execution_count": 63,
      "outputs": [
        {
          "output_type": "display_data",
          "data": {
            "image/png": "[encoded data removed]",
            "text/plain": [
              "<Figure size 432x288 with 1 Axes>"
            ]
          },
          "metadata": {
            "tags": [],
            "needs_background": "light"
          }
        }
      ]
    },
    {
      "cell_type": "code",
      "metadata": {
        "id": "KR7M1RwakTI1",
        "colab_type": "code",
        "colab": {
          "base_uri": "https://localhost:8080/",
          "height": 295
        },
        "outputId": "4fa51389-0a40-4b6d-dc7c-9dec2c7fd053"
      },
      "source": [
        "plot_losses(history5)"
      ],
      "execution_count": 64,
      "outputs": [
        {
          "output_type": "display_data",
          "data": {
            "image/png": "[encoded data removed]",
            "text/plain": [
              "<Figure size 432x288 with 1 Axes>"
            ]
          },
          "metadata": {
            "tags": [],
            "needs_background": "light"
          }
        }
      ]
    },
    {
      "cell_type": "code",
      "metadata": {
        "id": "UWrJkfBfkbg1",
        "colab_type": "code",
        "colab": {}
      },
      "source": [
        "def plot_lrs(history):\n",
        "    lrs = np.concatenate([x.get('lrs', []) for x in history])\n",
        "    plt.plot(lrs)\n",
        "    plt.xlabel('Batch no.')\n",
        "    plt.ylabel('Learning rate')\n",
        "    plt.title('Learning Rate vs. Batch no.');"
      ],
      "execution_count": 65,
      "outputs": []
    },
    {
      "cell_type": "code",
      "metadata": {
        "id": "gYnmD41TkcYZ",
        "colab_type": "code",
        "colab": {
          "base_uri": "https://localhost:8080/",
          "height": 295
        },
        "outputId": "38a35dd3-fce7-47ed-b2bf-f765c1583500"
      },
      "source": [
        "plot_lrs(history5)"
      ],
      "execution_count": 66,
      "outputs": [
        {
          "output_type": "display_data",
          "data": {
            "image/png": "[encoded data removed]",
            "text/plain": [
              "<Figure size 432x288 with 1 Axes>"
            ]
          },
          "metadata": {
            "tags": [],
            "needs_background": "light"
          }
        }
      ]
    },
    {
      "cell_type": "code",
      "metadata": {
        "id": "0R6VKbotwu1e",
        "colab_type": "code",
        "colab": {}
      },
      "source": [
        "torch.save(model5.state_dict(), 'svhn_resnet9.pth')"
      ],
      "execution_count": 67,
      "outputs": []
    },
    {
      "cell_type": "markdown",
      "metadata": {
        "id": "-cDDtTXPCUYe",
        "colab_type": "text"
      },
      "source": [
        "### Results"
      ]
    },
    {
      "cell_type": "code",
      "metadata": {
        "id": "4NlXrKfh9FN1",
        "colab_type": "code",
        "colab": {
          "base_uri": "https://localhost:8080/",
          "height": 159
        },
        "outputId": "a54266d7-854a-405a-edeb-dfeef5e6c398"
      },
      "source": [
        "result1 = evaluate(model1, test_dl)\n",
        "print(result1)\n",
        "result2 = evaluate(model2, val_dl)\n",
        "print(result2)\n",
        "result3 = evaluate(model3, val_dl)\n",
        "print(result3)\n",
        "result4 = evaluate(model4, val_dl)\n",
        "print(result4)\n",
        "result5 = evaluate(model5, val_dl)\n",
        "print(result5)"
      ],
      "execution_count": 68,
      "outputs": [
        {
          "output_type": "stream",
          "text": [
            "{'val_loss': 2.3054263591766357, 'val_acc': 0.22657527029514313}\n",
            "{'val_loss': 1.0804352760314941, 'val_acc': 0.6836192607879639}\n",
            "{'val_loss': 0.2019946426153183, 'val_acc': 0.9492442607879639}\n"
          ],
          "name": "stdout"
        },
        {
          "output_type": "stream",
          "text": [
            "/usr/local/lib/python3.6/dist-packages/torch/nn/modules/container.py:100: UserWarning: Implicit dimension choice for softmax has been deprecated. Change the call to include dim=X as an argument.\n",
            "  input = module(input)\n"
          ],
          "name": "stderr"
        },
        {
          "output_type": "stream",
          "text": [
            "{'val_loss': 1.5235928297042847, 'val_acc': 0.9387893080711365}\n",
            "{'val_loss': 0.17538809776306152, 'val_acc': 0.9593673348426819}\n"
          ],
          "name": "stdout"
        }
      ]
    },
    {
      "cell_type": "markdown",
      "metadata": {
        "id": "1RMGBE9RCWCs",
        "colab_type": "text"
      },
      "source": [
        "## Summary"
      ]
    },
    {
      "cell_type": "markdown",
      "metadata": {
        "id": "vKalWxz2CRIv",
        "colab_type": "text"
      },
      "source": [
        "| SNo | Model | Linear/Conv Layers | Optimizer | Batch Size | Learning Rate | Parameters | Epochs | Time | Validation Accuracy |\n",
        "| :---: | :---: | :---: | :---: | :---: | :---: | :---: | :---: | :---: | :---: |\n",
        "| 1 | Logistic Regression | None | Adam | None | 0.001 | 23.5 k | 10 | 4m 39s | 0.2265| \n",
        "| 2 | FFNN | 3 | Adam | 128 | 0.001 | 38.5 k | 10 | 4m 53s | 0.6836 | \n",
        "| 3 | CNN + FFNN | 12 | Adam | 128 | 0.001 | 16.2 M | 10 | 13m 20s | 0.9492 |\n",
        "| 4 | CNN | 12 | Adam | 128 | 0.001 | 792 k | 10 | 13m 47s | 0.9387 |\n",
        "| 5 | Resnet | 12 | Adam | 128 | 0.0001-0.001 | 6.5 M | 10 | 21m 42s | 0.9593 |"
      ]
    }
  ]
}